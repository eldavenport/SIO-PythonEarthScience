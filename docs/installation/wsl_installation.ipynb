{
 "cells": [
  {
   "cell_type": "markdown",
   "metadata": {},
   "source": [
    "# Windows Instructions for Unix Shell \n",
    "\n",
    "These instructions will walk you through the installation of Windows Subsystem for Linux (WSL). WSL allows you to run Linux on your Windows computer. This will allow you to create files, run software, and navigate your filesystem as if you were on a Linux computer. Your work will still be available to you through the Windows interface as well. Most modern software tools are designed to be used on Unix systems like Linux or MacOS. \n",
    "\n",
    "If you cannot install WSL because your Windows version is too old, then you should use Git Bash (instructions included)."
   ]
  },
  {
   "cell_type": "markdown",
   "metadata": {},
   "source": [
    "### **Windows Subsystem for Linux (WSL)**"
   ]
  },
  {
   "cell_type": "markdown",
   "metadata": {},
   "source": [
    "Linux is the industry standard operating system for most servers including super computers. This will allow you to use the same workflow interchangeably between your laptop and any remote servers. Installing Git is trivial once you have WSL."
   ]
  },
  {
   "cell_type": "markdown",
   "metadata": {},
   "source": [
    "1) Open the windows start menu and search “store” to open the Microsoft Store.\n",
    "\n",
    "2) In the store search “wsl ubuntu”. (Ubuntu is the version of Linux you are installing)\n",
    "\n",
    "3) Select ‘Ubuntu 24.04.01-LTS’ if it is available. If not select ‘Ubuntu 22.04.1-LTS’\n",
    "\n",
    "4) If a terminal window pops up asking to continue, press space to continue.\n",
    "\n",
    "5) If a new pop-up window appears asking to make changes to your device, say “yes”.\n",
    "\n",
    "6) Once installation is complete, restart your computer.\n",
    "\n",
    "7) Once restarted go to the windows start menu and type “Ubuntu” to run the installed Linux operating system. \n",
    "    \n",
    "    a) This will open a unix-shell with bash and you will do this any time you want to use WSL.\n",
    "\n",
    "8) Type `sudo apt update` and Enter \n",
    "\n",
    "    a) apt is a command that will manage updating/installing things in Linux. Any time you use sudo you will need to enter your password.\n",
    "\n",
    "9) Type `sudo apt install autotools python3` and Enter \n"
   ]
  },
  {
   "cell_type": "markdown",
   "metadata": {},
   "source": [
    "### To access Windows system files from Linux\n",
    "\n",
    "Navigate to `/mnt/c` in the WSL terminal by typing `cd /mnt/c`. Now when you type `ls` and Enter, you should see all of the files and folders that already exist on your Windows computer."
   ]
  },
  {
   "cell_type": "markdown",
   "metadata": {
    "vscode": {
     "languageId": "plaintext"
    }
   },
   "source": [
    "### To access Linux subsystem files from Windows \n",
    "\n",
    "1) in Powershell, navigate to `\\\\wsl.localhost\\`\n",
    "\n",
    "2) in File Explorer, click the Linux Icon (it's a penguin) in the File Explorer bar "
   ]
  }
 ],
 "metadata": {
  "language_info": {
   "name": "python"
  }
 },
 "nbformat": 4,
 "nbformat_minor": 2
}

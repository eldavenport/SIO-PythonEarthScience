{
 "cells": [
  {
   "cell_type": "markdown",
   "metadata": {},
   "source": [
    "# Programming with Python"
   ]
  },
  {
   "cell_type": "markdown",
   "metadata": {},
   "source": [
    "## Session Overview"
   ]
  },
  {
   "cell_type": "markdown",
   "metadata": {},
   "source": [
    "1) Getting started with Python \n",
    "    a) Reviewing our conda installation and making our first conda environment\n",
    "\n",
    "2) Introduction to Jupyter Notebooks\n",
    "    a) Using your conda environment as a Jupyter Notebook kernel\n",
    "\n",
    "3) Importing packages\n",
    "\n",
    "4) Variable types\n",
    "\n",
    "5) For loops, while loops, if statements, and logicals \n",
    "\n",
    "6) Creating Functions \n",
    "\n",
    "7) Basic Python Math\n",
    "\n",
    "8) Numpy\n",
    "\n",
    "9) Analyzing Data \n",
    "\n",
    "    a) Slicing arrays  \n",
    "\n",
    "    b) Statistical operations on arrays\n",
    "\n",
    "    d) Working with lists\n",
    "\n",
    "    g) Calling data in .nc, .csv, and .bin formats\n",
    "\n",
    "10) Errors and Exceptions \n",
    "\n",
    "11) Debugging \n",
    "\n",
    "12) Best Practices"
   ]
  },
  {
   "cell_type": "markdown",
   "metadata": {},
   "source": [
    "## Getting started with Python - Installation and Development Environment"
   ]
  },
  {
   "cell_type": "markdown",
   "metadata": {},
   "source": [
    "Here we describe the necessary tools to get up and running with Python. The listed tools should be installed prior to the workshop: \n",
    "\n",
    "**1) Miniforge/Miniconda**: The installation instructions provided for this workshop detail how to get conda through Miniforge. Conda will be our Python package manager. We will install all necessary Python packages through conda, and we will always activate a conda environment to run our Python scripts. \n",
    "\n",
    "**2) Jupyter Notebooks**: The easiest way to develop in Python is with Jupyter Notebooks, which allow you to run a few lines of code at a time instead of running entire Python scripts. This feature, along with the option for inline figures, makes Jupyter Notebooks ideal for data analysis and collaborative science. We will use our conda environments as kernels for our Jupyter Notebooks.\n",
    "\n",
    "**3) VSCode**: Visual Studio Code (VSCode) is a easy-to-use development environment that has extensions for every major programming language. It seamlessly integrates Conda, Jupyter Notebooks, Python and Remote - SSH. We will use VSCode as the example for this workshop. The same code can be run in Jupyter Lab, so VSCode is not strictly required.\n",
    "\n",
    "**4) IPython**: IPython is a command-line tool that allows you to run lines of python code directly in the terminal. IPython should be automatically installed with Miniforge and Jupyterlab. To use it, type `ipython` into the terminal. We will not use IPython directly in this workshop, but it can occasionally be useful to run a few commands in the terminal."
   ]
  },
  {
   "cell_type": "markdown",
   "metadata": {},
   "source": [
    "## Jupyter Notebook Intro and Shortcuts (Let's move the shortcuts to another page potentially)\n",
    "They only really need a quick intro to creating new cells, using markdown in between code cells, running cells (shift + enter), restarting the kernel, and clearing outputs. The short cuts can be moved to a resources page just like the unix cheat sheet will be."
   ]
  },
  {
   "cell_type": "markdown",
   "metadata": {},
   "source": [
    "1) esc + m = convert a code cell to a markdown cell\n",
    "\n",
    "2) esc + y = convert a markdown cell to a code cell \n",
    "\n",
    "3) shift + enter = run current cell \n",
    "\n",
    "4) esc + a = Insert a cell above the current cell \n",
    "\n",
    "5) esc + b = Insert a cell below the current cell\n",
    "\n",
    "6) esc + x = Cut the current cell\n",
    "\n"
   ]
  },
  {
   "cell_type": "markdown",
   "metadata": {},
   "source": [
    "## Importing Packages "
   ]
  },
  {
   "cell_type": "markdown",
   "metadata": {},
   "source": [
    "## Variable Types \n",
    "\n",
    "Include an example of each in the list below instead of just a description. Try to break up the text so there isn't so much of it at once."
   ]
  },
  {
   "cell_type": "markdown",
   "metadata": {},
   "source": [
    "**1) Integers, floats, and complex**: integers are integers, floats are numbers with decimals, complex are complex valued floats. All types have a default precision (32 bits) that can be increased (64 bits) or decreased (16 bits)\n",
    "\n",
    "**2) Strings**: a collection of letters. strings are denoted with quotation marks \"\" or ''.  \n",
    "\n",
    "**3) Boolean**: True or False\n",
    "\n",
    "**4) Lists**: a sequence of any type of object including strings, floats, integers, and booleans. All things in the list do not have to be the same type.\n",
    "\n",
    "```my_list = [1, \"hello\", 3.14, True, [1, 2], {\"a\": 1}]```\n",
    "\n",
    "**5) Arrays**: a mutable sequence\n",
    "\n",
    "**6) Dictionaries**: an unordered collection of data values, used to store data values. Unlike other Data Types that hold only single value as an element, Dictionary holds key:value pair.\n",
    "\n",
    "```\n",
    "monthly_data = {}\n",
    "monthly_data = {'time': [], 'mean': [], 'median': [],'std': [],'N': [] }\n",
    "```\n",
    "\n",
    "**7) Tuples**: A collection of things: (float, float, list) or (dictionary, float, string). denoted by () and separated by commas. Useful for returning multiple things from a function.\n",
    "\n"
   ]
  },
  {
   "cell_type": "code",
   "execution_count": null,
   "metadata": {},
   "outputs": [],
   "source": [
    "# Include some code that shows how to investigate attributes of variables (size, shape, type, attrs)"
   ]
  },
  {
   "cell_type": "markdown",
   "metadata": {},
   "source": [
    "## For Loops, While Loops, If Statements, and Logicals"
   ]
  },
  {
   "cell_type": "markdown",
   "metadata": {},
   "source": [
    "**Conditional Statements**:\n",
    "\n",
    "**Syntax**\n",
    "```python\n",
    "if condition:\n",
    "    print(swh)\n",
    "elif condition:\n",
    "    print(wsp)\n",
    "else:\n",
    "    print(swh, wsp)\n",
    "```\n",
    "\n",
    "**Logicals**\n",
    "\n",
    "- `a == b` : Test for equivalence\n",
    "\n",
    "- `a != b` : Test for inequivalence\n",
    "\n",
    "- `a and b`  \n",
    "  Returns `True` if **both** operands are true.\n",
    "\n",
    "- `a or b`  \n",
    "  Returns `True` if **either** operand is true.\n",
    "\n",
    "- `not a`  \n",
    "  Returns `True` if operand is **False**.\n",
    "\n",
    "> **Note:** Logical operators can only be used to compare two boolean expressions.  \n",
    "> They should **not** be used in long series of conditions.  \n",
    "> Instead, break complex logic into multiple conditional statements and store boolean results in variables for later use.\n",
    "\n",
    "**Other Operators**\n",
    "\n",
    "- `>=`, `<=`\n",
    "  Greater than or equal to, less than or equal to\n",
    "\n",
    "- `+=`, `-=`, `*=`, `/=`  \n",
    "  Shortcut assignment operators for addition, subtraction, multiplication, and division, respectively.  \n",
    "  These update the variable in-place without needing to redefine it.\n",
    "\n",
    "**What will evaluate to True (False)?**\n",
    "\n",
    "- `0`, empty strings `\"\"`, and empty lists `[]` are considered **False**\n",
    "- All other numbers, strings, and lists are considered **True**\n",
    "- `True` and `False` are special boolean values representing truth\n"
   ]
  },
  {
   "cell_type": "markdown",
   "metadata": {},
   "source": [
    "## Creating Functions"
   ]
  },
  {
   "cell_type": "markdown",
   "metadata": {},
   "source": [
    "**Syntax**: \n",
    "```python\n",
    "    def function_name(parameters): \n",
    "        '''\n",
    "        Documentation\n",
    "        '''\n",
    "        #Code for function\n",
    "        \n",
    "        return variable_1, variable_2 #Output variables from function\n",
    "```\n",
    "**Basics**: \n",
    " \n",
    "1) Variables defined within a function can only be seen and used within the body of the function.\n",
    "\n",
    "2) Specify default values for parameters when defining a function using name=value in the parameter list\n",
    "\n",
    "3) Parameters can be passed by matching based on name, by position, or by omitting them (in which case the default value is used)\n",
    "\n",
    "**Purpose** of Functions are to automize and streamline your code in order to your code more efficient, easier to debug, and easier to write. Functions can be expanded upon to compelete a wide variety of tasks by adding conditional statements. \n",
    "\n",
    "**Importing functions** from .py files with the following code: \n",
    "\n",
    "import sys # import sys library \n",
    "sys.path.append('/zdata/home/lcolosi/python_functions/') #using sys, give the notebook that path inorder to find the functions .py file \n",
    "\n",
    "#import functions \n",
    "from unweighted_least_square_fit import least_square_fit \n",
    "from char_LSF_curve import character_LSF\n",
    "from monthly_mean import monthly_average"
   ]
  },
  {
   "cell_type": "code",
   "execution_count": null,
   "metadata": {},
   "outputs": [],
   "source": [
    "def wind_stress_mag(C_d, rho, U_10):\n",
    "    \n",
    "    '''\n",
    "    Documentation Section: \n",
    "    \n",
    "    wind_stress_mag(C_d, rho, U_10)\n",
    "        \n",
    "        Function for computing scalar wind stress magnitude \n",
    "        \n",
    "        Parameter\n",
    "        ---------\n",
    "        C_d : wind drag coefficient \n",
    "        rho : air density (kg/m^3)\n",
    "        U_10 : wind speed 10 meters above the suface of the water (m/s)\n",
    "        \n",
    "        Libraries necessary\n",
    "        -------------------\n",
    "        import numpy as np\n",
    "    '''\n",
    "    \n",
    "    #import libraries\n",
    "    import numpy as np\n",
    "    \n",
    "    #compute wind stress magnitude\n",
    "    wsm = C_d*rho*U_10**2\n",
    "    \n",
    "    return wsm"
   ]
  },
  {
   "cell_type": "code",
   "execution_count": null,
   "metadata": {},
   "outputs": [],
   "source": [
    "wsm = wind_stress_mag(0.001, 1.2, 10)\n",
    "print(wsm)\n",
    "\n",
    "#Obtain documentation on function: \n",
    "wind_stress_mag?"
   ]
  },
  {
   "cell_type": "markdown",
   "metadata": {},
   "source": [
    "## Basic Mathematical Operations \n",
    "Let's turn as much as possible of this into demonstration (code cells) as opposed to just text, start with regular operations that don't include numpy. then do numpy examples"
   ]
  },
  {
   "cell_type": "markdown",
   "metadata": {},
   "source": [
    "### **Python Math**\n",
    "1. a + b= elementwise addition \n",
    "\n",
    "2. a - b= elementwise subtraction\n",
    "\n",
    "3. a * b = elementwise multiplication \n",
    "\n",
    "4. a @ b or np.dot(a,b) = matrix multiplication \n",
    "\n",
    "5. a/b = elementwise division\n",
    "\n",
    "6. a//b = floor division \n",
    "\n",
    "7. a**b = elementwise exponentiation \n",
    "\n",
    "8. a.T = transpose of a\n",
    "\n",
    "9. a.conj().T = conjugate transpose of a"
   ]
  },
  {
   "cell_type": "markdown",
   "metadata": {},
   "source": [
    "## Numpy\n",
    "\n",
    "1) Numpy arrays (declaring them: np.array(), np.linspace, range())\n",
    "2) Slicing arrays\n",
    "3) Common mathemtical operations with numpy "
   ]
  },
  {
   "cell_type": "markdown",
   "metadata": {},
   "source": [
    "### **Numpy Arrays**"
   ]
  },
  {
   "cell_type": "markdown",
   "metadata": {},
   "source": [
    "### **Slicing arrays** \n",
    "\n",
    "Basics: \n",
    "\n",
    "1) Array indices start at 0\n",
    "\n",
    "2) *Array[x,y]* selects a single element from the 2D array where x = row and y = column\n",
    "\n",
    "3) General syntax for an array: *array[start:stop:step]*\n",
    "\n",
    "4) Use *low:high* to specify a slice of the array along a dimension of the array including indices from *low* to *high-1*\n",
    "\n",
    "5) All indexing and slicing that works on arrays also works on strings \n",
    "\n"
   ]
  },
  {
   "cell_type": "markdown",
   "metadata": {},
   "source": [
    "### **Numpy Math**"
   ]
  },
  {
   "cell_type": "code",
   "execution_count": null,
   "metadata": {},
   "outputs": [],
   "source": [
    "import numpy as np #library for working with arrays \n",
    "\n",
    "# Example numpy operations"
   ]
  },
  {
   "cell_type": "markdown",
   "metadata": {},
   "source": [
    "## Analyzing Data "
   ]
  },
  {
   "cell_type": "code",
   "execution_count": null,
   "metadata": {},
   "outputs": [],
   "source": [
    "import numpy as np #library for working with arrays \n",
    "import matplotlib.pyplot as plt #library for plotting\n",
    "from netCDF4 import Dataset, num2date #library commands used for reading in netCDF files \n",
    "import glob # use to create a list of filenames "
   ]
  },
  {
   "cell_type": "code",
   "execution_count": null,
   "metadata": {},
   "outputs": [],
   "source": [
    "# separate these into a few code cells with the appropriate descriptions from above, so that the description is immediately followed by the code example\n",
    "print(swh[2,3])\n",
    "print(swh[0:3,4:8])\n",
    "print(swh[4:])\n",
    "print(swh[:3])\n",
    "print(swh[-3:])\n",
    "print(swh[0:5:2])\n",
    "print(swh[::2])"
   ]
  },
  {
   "cell_type": "markdown",
   "metadata": {},
   "source": [
    "### **Statistical operations on arrays** (move the statistics functions to the numpy section - can reiterate it here with some real data as an example)"
   ]
  },
  {
   "cell_type": "code",
   "execution_count": null,
   "metadata": {},
   "outputs": [],
   "source": [
    "#operation on the entire array\n",
    "swh_mean = np.mean(swh)\n",
    "swh_std = np.std(swh)\n",
    "swh_max = np.max(swh)\n",
    "swh_min = np.min(swh)\n",
    "print(swh_mean, swh_std, swh_max, swh_min)\n",
    "#operations along an axis \n",
    "swh_mean_column = np.mean(swh, axis=0) #calculate mean across row axis (down each column)\n",
    "swh_mean_row = np.mean(swh, axis=1) #calculate mean across column axis (across each row)\n",
    "print('')\n",
    "print(swh_mean_row)\n",
    "print('')\n",
    "print(swh_mean_column)"
   ]
  },
  {
   "cell_type": "code",
   "execution_count": null,
   "metadata": {},
   "outputs": [],
   "source": [
    "#initalize list \n",
    "swh_list = []\n",
    "\n",
    "for ilen in range(0,10,1):\n",
    "    swh_list.append(ilen)\n",
    "    \n",
    "#look what swh_list looks like\n",
    "print(swh_list)\n",
    "print(len(swh_list))\n",
    "print(np.size(swh_list))"
   ]
  },
  {
   "cell_type": "markdown",
   "metadata": {},
   "source": [
    "**Working with lists**\n",
    "\n",
    "Basics:\n",
    "\n",
    "1) Lists are mutable (can be manipulated such that elements can be swapped, deleted, etc.) \n",
    "\n",
    "2) Lists can contain multple types of variables\n",
    "\n",
    "3) Lists are indexed and sliced with square brackets (e.g., list[0] and list[2:9]), in the same way as strings and arrays."
   ]
  },
  {
   "cell_type": "code",
   "execution_count": null,
   "metadata": {},
   "outputs": [],
   "source": [
    "#create an empty list\n",
    "wsp = []\n",
    "#Create a populated list\n",
    "wsp = [1.2, 3.5, 'air', 3.2, 3.1, [6.9, 3.8, 4.9]]\n",
    "#Slicing List\n",
    "print(wsp[2:4])\n",
    "print(wsp[-1][1])"
   ]
  },
  {
   "cell_type": "markdown",
   "metadata": {},
   "source": [
    "**List Comprehension**: a powerful way of manipulating lists"
   ]
  },
  {
   "cell_type": "code",
   "execution_count": null,
   "metadata": {},
   "outputs": [],
   "source": [
    "#Example of list comprehension\n",
    "days = [str(i).zfill(2) for i in range(1,31)]\n",
    "print(days)"
   ]
  },
  {
   "cell_type": "code",
   "execution_count": null,
   "metadata": {},
   "outputs": [],
   "source": [
    "#Logical operator example \n",
    "#Initialize variables \n",
    "swh_norcal = np.random.randint(0,8,size=(5,8))\n",
    "swh_socal = np.random.randint(1,10, size=(5,8))\n",
    "\n",
    "#Set conditional statement\n",
    "if np.max(swh_norcal) > np.max(swh_socal) and np.min(swh_norcal) < np.min(swh_socal):\n",
    "    print('Northern California has a larger spread of values than southern California')\n",
    "elif np.max(swh_norcal) == np.max(swh_socal) or np.min(swh_socal) == np.min(swh_norcal:\n",
    "    print('Northern California maybe has the same spread of values as southern California')\n",
    "else: \n",
    "    print('Southern California has a larger spread of values than Northern California')"
   ]
  },
  {
   "cell_type": "markdown",
   "metadata": {},
   "source": [
    "**Calling data in .nc and .txt formats**\n",
    "\n",
    "**Basic steps for importing data into Jupyter notebooks**:\n",
    "\n",
    "1) Import libraries for calling netCDF or text files \n",
    "\n",
    "    a) netCDF files: from netCDF4 import Dataset, num2date\n",
    "    \n",
    "    b) Text files: import numpy as np\n",
    "\n",
    "2) Set the path to the data located locally on your computer. There are ways to obtain data located remotely, however that is not covered here. Paths are usually strings. \n",
    "\n",
    "    ex: filenames = '/zdata/downloads/colosi_data_bk/binned_data/ifremer_p1_daily_data/my_daily_binned_ifremer_data/ifremer_swh_daily_binned_data_93_16_bia.nc'\n",
    "    \n",
    "    If you need to import several files, use the glob library to compile a list of filenames that have a common filename structure or patter. Use wildcards (* or ?) in order to grab multiple files with the same beginning or endings. Use * in a pattern to match zero or more characters, and ? to match any single character.\n",
    "    \n",
    "    ex: filenames = sorted(glob.glob('/zdata/downloads/colosi_data_bk/binned_data/ccmpv2_wind_data/daily_binned_ccmp_v2_data/ccmp_v2_wsp_daily_binned_data_*_high_res.nc'))\n",
    "    \n",
    "    where the sorted function (built in function to python) returns a new list containing all items from the iterable in ascending order\n",
    "\n",
    "\n",
    "3) From here, we take two separate paths for netCDF and text files \n",
    "\n",
    "    a) netCDF files: \n",
    "    ```python\n",
    "        #set nc variable in order to read attributes and obtained data: \n",
    "        nc = Dataset(filenames[0], 'r')\n",
    "        \n",
    "        #print key variables:\n",
    "        print(nc.variables.keys())\n",
    "        \n",
    "        #call data \n",
    "        swh = nc.variables['swh'][:]\n",
    "    ```\n",
    "    b) Text files: \n",
    "    ```python\n",
    "        #Call data \n",
    "        chlorophyll = np.loadtxt(fname='/Users/lukecolosi/Downloads/chlorophyll-01.csv', delimiter=',')\n",
    "        ```\n",
    "   For netCDF files and text files, both will leave you with variables linked to data arrays \n"
   ]
  },
  {
   "cell_type": "markdown",
   "metadata": {},
   "source": [
    "## Errors and Exceptions (Lets change this to be tips and tricks for how to read errors, but not necessarily worry about listing types of errors)\n",
    "\n",
    "Tracebacks (error output) can look intimidating, but they give us a lot of useful information about what went wrong in our program, including where the error occurred and what type of error it was.\n",
    "\n",
    "An error having to do with the ‘grammar’ or syntax of the program is called a SyntaxError. If the issue has to do with how the code is indented, then it will be called an IndentationError.\n",
    "\n",
    "A NameError will occur if you use a variable that has not been defined, either because you meant to use quotes around a string, you forgot to define the variable, or you just made a typo.\n",
    "\n",
    "Containers like lists and strings will generate errors if you try to access items in them that do not exist. This type of error is called an IndexError.\n",
    "\n",
    "Trying to read a file that does not exist will give you an FileNotFoundError. Trying to read a file that is open for writing, or writing to a file that is open for reading, will give you an IOError."
   ]
  },
  {
   "cell_type": "markdown",
   "metadata": {},
   "source": [
    "## Best Practices\n",
    "\n",
    "Program defensively, i.e., assume that errors are going to arise, and write code to detect them when they do.\n",
    "\n",
    "Put assertions in programs to check their state as they run, and to help readers understand how those programs are supposed to work.\n",
    "\n",
    "Use preconditions to check that the inputs to a function are safe to use.\n",
    "\n",
    "Use postconditions to check that the output from a function is safe to use.\n",
    "\n",
    "Test your program or function in order to make sure it is correctly preforming the way you want it to. Give your function or program an input with a know output and make sure this output is outputted. \n",
    "\n",
    "Write documentation before writing code in order to help determine exactly what that code is supposed to do and to assist future reader."
   ]
  },
  {
   "cell_type": "markdown",
   "metadata": {},
   "source": [
    "## Debugging \n",
    "\n",
    "- Know what code is supposed to do before trying to debug it.\n",
    "\n",
    "- Make it fail fast.\n",
    "\n",
    "- Change one thing at a time, and for a reason.\n",
    "\n",
    "- Keep track of what you’ve done."
   ]
  },
  {
   "cell_type": "markdown",
   "metadata": {},
   "source": [
    "### Acknowledgements "
   ]
  },
  {
   "cell_type": "markdown",
   "metadata": {},
   "source": [
    "Some of the material in this lesson is derived from the Software Carpentry Lessons for Python Programming and Plotting https://swcarpentry.github.io/python-novice-inflammation/reference/"
   ]
  }
 ],
 "metadata": {
  "kernelspec": {
   "display_name": "airsea_coupling",
   "language": "python",
   "name": "python3"
  },
  "language_info": {
   "codemirror_mode": {
    "name": "ipython",
    "version": 3
   },
   "file_extension": ".py",
   "mimetype": "text/x-python",
   "name": "python",
   "nbconvert_exporter": "python",
   "pygments_lexer": "ipython3",
   "version": "3.12.2"
  }
 },
 "nbformat": 4,
 "nbformat_minor": 2
}

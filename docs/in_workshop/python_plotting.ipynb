{
  "cells": [
    {
      "cell_type": "markdown",
      "metadata": {},
      "source": [
        "# Python Plotting\n",
        "\n",
        "Example content."
      ]
    },
    {
      "cell_type": "markdown",
      "metadata": {},
      "source": [
        "## **Visualizing Data: Plotting**\n",
        "\n",
        "**Basic types of plotting functions in matplotlib.pyplot library**:\n",
        "\n",
        "    1) plt.plot() : line plots \n",
        "    \n",
        "    2) plt.contour() : contour plots \n",
        "    \n",
        "    3) plt.contourf() : contour filled plots (a discrete pcolor plot with countours)\n",
        "    \n",
        "    4) plt.pcolor() : colormap with continous or discrete colorbars\n",
        "    \n",
        "    5) plt.scatter() : scatter plot \n",
        "    \n",
        "    6) plt.imshow() : image plot \n",
        "       \n",
        "    7) plt.fill_between() : line plots with shadded regions \n",
        "    \n",
        "**Single Figure Plotting**: \n",
        "\n",
        "**Plotting Subplots**: \n"
      ]
    },
    {
      "cell_type": "markdown",
      "metadata": {},
      "source": []
    }
  ],
  "metadata": {
    "kernelspec": {
      "display_name": "Python 3",
      "language": "python",
      "name": "python3"
    },
    "language_info": {
      "name": "python",
      "version": "3.12.6"
    }
  },
  "nbformat": 4,
  "nbformat_minor": 2
}

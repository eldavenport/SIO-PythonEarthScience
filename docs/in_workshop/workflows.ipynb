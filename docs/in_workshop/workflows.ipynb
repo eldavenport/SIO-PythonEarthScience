{
  "cells": [
    {
      "cell_type": "markdown",
      "metadata": {},
      "source": [
        "# Workflows for Earth Science"
      ]
    },
    {
      "cell_type": "markdown",
      "metadata": {},
      "source": [
        "**Workflows for Earth and Natural sciences**\n",
        "- Collaborating with Git/GitHub (workflows and best practices)\n",
        "- Open Source Software best practices\n",
        "- Using your Python workflow on a remote server\n",
        "- Popular AI Agents for software and their use cases "
      ]
    },
    {
      "cell_type": "markdown",
      "metadata": {},
      "source": [
        "## Collaborating with Git\n",
        "\n",
        "First we will talk about the _technical_ aspects of collaboration with Git including common workflows, updating your branch when the main branch has changed, resolving conflicts and making pull requests. Then we will move to more _conceptual_ aspects of collaboration with Git such as managing your work in ways that facilitate fewer conflicts, opening issues, and reviewing other people's code. These tools and workflows would apply equally to private or public repos. Finally we will move on to a more general section about Open Source Software."
      ]
    },
    {
      "cell_type": "markdown",
      "metadata": {},
      "source": [
        "#### **Team Workflows**\n",
        "\n",
        "The most important thing about team workflows is to have one! All collaborators should be aware of the expected workflow. You can even use `Rules` in your repositories to enforce the desired workflow (discussed below). \n",
        "\n",
        "The most common and straightforward team flow is the **Centralized Workflow** (also referred to as the _Trunk-Based_ workflow):\n",
        "\n",
        "1) Everyone works in one repository. This repository can be owned by a teammember or by an organization.\n",
        "\n",
        "2) There will be one primary, stable version of the code that exists on the `main` branch (the `main` branch is sometimes called the _trunk_).\n",
        "\n",
        "3) In order to make changes to the code, collaborators will:\n",
        "    - Create a new branch off of `main`\n",
        "    - Develop and test their changes on the branch\n",
        "    - Open a Pull Request to merge their changes into `main`\n",
        "\n",
        "4) Feature branches exist for the time it takes to complete the task, and eventually are merged back into `main`. This is in contrast to other (less popular) workflows where multiple primary branches exist and features that are not in `main` may be maintained indefinitely.\n",
        "\n",
        "5) In this workflow you do not develop directly to the `main` branch. This keeps the primary branch stable and usable even while new code is under development and testing. It is often possible to merge your feature branch directly into main, without a Pull Request, but this is generally frowned upon in a collaborative setting. "
      ]
    },
    {
      "cell_type": "markdown",
      "metadata": {},
      "source": [
        "#### **Merging Updates into Your Branch**\n",
        "\n",
        "Reminder of how to create a new branch off of main:"
      ]
    },
    {
      "cell_type": "code",
      "execution_count": null,
      "metadata": {
        "vscode": {
          "languageId": "shellscript"
        }
      },
      "outputs": [],
      "source": [
        "git checkout main  # checkout the main branch\n",
        "git pull  # make sure you are up to date with the latest\n",
        "git checkout -b feature-branch-1 # create a new branch for your feature, use a descriptive name"
      ]
    },
    {
      "cell_type": "markdown",
      "metadata": {},
      "source": [
        "After you add some code, you will want to commit it and push your new branch to the remote: "
      ]
    },
    {
      "cell_type": "code",
      "execution_count": null,
      "metadata": {
        "vscode": {
          "languageId": "shellscript"
        }
      },
      "outputs": [],
      "source": [
        "git add <relevant-changes>\n",
        "git commit -m \"<commit-message>\"\n",
        "\n",
        "git push -u origin feature-branch-1  # push the new branch and the changes to the remote repository"
      ]
    },
    {
      "cell_type": "markdown",
      "metadata": {},
      "source": [
        "You keep working on your branch, let's say for a week or so, and in the meantime one of your collaborators completes their work and merges it into main. How can you check if there are updates to `main`?"
      ]
    },
    {
      "cell_type": "code",
      "execution_count": null,
      "metadata": {
        "vscode": {
          "languageId": "shellscript"
        }
      },
      "outputs": [],
      "source": [
        "git fetch  # this will download information about the remote branches, without downloading the new code\n",
        "git checkout main  # switch back to the main branch\n",
        "git status # check the status of your local repository, this will tell you if you are behind the remote (i.e., if you need to do a git pull)"
      ]
    },
    {
      "cell_type": "markdown",
      "metadata": {},
      "source": [
        "Let's say there are new updates on the main branch. How can you update your feature branch so that your work is applied to the latest version of the main branch? The `git merge` command will pull changes from another branch into your yours."
      ]
    },
    {
      "cell_type": "code",
      "execution_count": null,
      "metadata": {
        "vscode": {
          "languageId": "shellscript"
        }
      },
      "outputs": [],
      "source": [
        "git checkout main # if you aren't on main, you should go there\n",
        "git pull  # download the latest updates \n",
        "git checkout feature-branch-1  # switch back to your feature branch\n",
        "git merge main  # merge the latest changes from main into your feature branch"
      ]
    },
    {
      "cell_type": "markdown",
      "metadata": {},
      "source": [
        "#### **Resolving Conflicts**\n",
        "\n",
        "Merging can create _conflicts_ when the same line of code has been changed on two different branches. The output of `git merge` will notify you of the conflict (and the file it is in) and will not complete the merge until you reconcile the issue. You have 3 options:\n",
        "\n",
        "1) Accept the _incoming_ changes (in the example above this would be to take the code from the main branch)\n",
        "2) Accept the _local_ or _current_ changes (in the example above this would be to take the code from the feature branch)\n",
        "3) Accept a combination of both (in this case you will edit the file directly to tell Git what the reconciled version should look like)\n",
        "\n"
      ]
    },
    {
      "cell_type": "markdown",
      "metadata": {},
      "source": [
        "Let's say we want to overwrite whatever came in on main with our feature branch code. One way to do this is to use `git checkout`."
      ]
    },
    {
      "cell_type": "code",
      "execution_count": null,
      "metadata": {
        "vscode": {
          "languageId": "shellscript"
        }
      },
      "outputs": [],
      "source": [
        "git checkout --ours <file name>  # resolve conflicts by keeping your version of the file"
      ]
    },
    {
      "cell_type": "markdown",
      "metadata": {},
      "source": [
        "Or maybe we didn't mean to touch that file, and we want to accept whatever is on the main branch:"
      ]
    },
    {
      "cell_type": "code",
      "execution_count": null,
      "metadata": {
        "vscode": {
          "languageId": "shellscript"
        }
      },
      "outputs": [],
      "source": [
        "git checkout --theirs <file name>  # resolve conflicts by keeping the version from the main branch"
      ]
    },
    {
      "cell_type": "markdown",
      "metadata": {},
      "source": [
        "If you aren't sure and need to inspect the code, you can do so in any text editor. VSCode has a conflict resolution tool that comes with the Git extension, this will allow you to see the two versions of the file side-by-side and make your decision. If you simply open the file, you will see the conflicting lines of code denoted by >>>>. For example: \n",
        "\n",
        "```\n",
        "<<<<<<< HEAD\n",
        "fig, ax = plt.subplots(figsize=(10,5))\n",
        "=======\n",
        "fig, axes = plt.subplots(figsize(15, 8), nrows=2)\n",
        ">>>>>>> main\n",
        "```\n",
        "\n",
        "HEAD always refers to the code you have checked out on your local computer. So in this case the incoming change is from main and the current change is from HEAD (our feature branch). You will add/delete whatever lines you would like in order to reconcile the differences in the code. Then you will save the file.\n",
        "\n",
        "When the conflict resolution is complete you will commit the changes. If you are in the middle of a merge, then you do not need to type -m to add another message. The auto-generated commit message will already say that you are merging main into feature_branch_1:"
      ]
    },
    {
      "cell_type": "code",
      "execution_count": null,
      "metadata": {
        "vscode": {
          "languageId": "shellscript"
        }
      },
      "outputs": [],
      "source": [
        "git commit # finish the merge by committing the changes. \n",
        "git push # push the resolved changes to the remote repository"
      ]
    },
    {
      "cell_type": "markdown",
      "metadata": {},
      "source": [
        "## Git Exercise 1: Adding collaborators to a repository and creating feature branches\n",
        "\n",
        "1) Get into groups of 3 or 4\n",
        "\n",
        "2) _One_ person should make a new repository, change the default branch name to main, and add a README (we did this on Wednesday).\n",
        "\n",
        "3) Add collaborators (only the owner needs to do this, but all group members can figure this out together)\n",
        "    - Go into the repository settings and then to the Collaborators tab. \n",
        "    - Add the other members of your group to the repository using their GitHub user name.\n",
        "\n",
        "4) Collaborators should receive invites to join the repo (you will get an email, but you can also see them from your GitHub account).\n",
        "\n",
        "5) Each collaborator should clone the repo, make their own feature branch.\n",
        "\n",
        "6) Add something to your feature branch (maybe a code file or a new text file). The new file shouldn't be empty.\n",
        "\n",
        "7) Push your feature branch to the remote (follow the steps above)."
      ]
    },
    {
      "cell_type": "markdown",
      "metadata": {},
      "source": [
        "\n",
        "#### **Opening Pull Requests**\n",
        "\n",
        "The appropriate way to get code from your feature branch into main is through a Pull Request. This gives a clear visualization of the changes and provides an opportunity for someone else on the team to give feedback. The easiest way to open a Pull Request is on GitHub. "
      ]
    },
    {
      "cell_type": "markdown",
      "metadata": {},
      "source": [
        "Insert steps to open PR here"
      ]
    },
    {
      "cell_type": "markdown",
      "metadata": {},
      "source": [
        "## Git Exercise 2: Opening Pull Requests and Assigning Reviewers\n",
        "\n",
        "1) Each collaborator should open a Pull Request for their feature branch \n",
        "\n",
        "2) Explore the PR's! What kind of information do they show? \n",
        "\n",
        "3) Let's look at the PR that is listed first. Whoever opened this PR should add a reviewer (on the right). Pick anyone on your team."
      ]
    },
    {
      "cell_type": "markdown",
      "metadata": {},
      "source": [
        "#### **Reviewing Code**\n",
        "\n",
        "In general, any code that goes into main should be reviewed by at least one person. Every team should decide how many reviewers a PR needs. Typically, the more complex the changes, the more reviewers you should have. You can assign reviewers to the PR and they will get notified of the request.\n",
        "\n",
        "Reviewers should look at the changed files. As you scroll through you have the option to add comments. When you add a comment you can either select 'xxx' or 'start a review'. The difference is whether you want to make a single comment or if you would like to collect you comments along with an overall summary in a Review. If you have more than one thing to say, the second option is preferred. \n",
        "\n",
        "Insert some steps to review code here\n",
        "\n",
        "**NOTE** Squashing is almost always the preferred way to merge into main. This keeps the history of the main branch clean and easy to read. Feature branches may end up with hundreds of commits. \n",
        "\n",
        "**NOTE** Unless you plan to come continue development on the feature that is being merged into main, you should delete the branch after the PR is closed."
      ]
    },
    {
      "cell_type": "markdown",
      "metadata": {},
      "source": [
        "## Git Exercise 3: Reviewing Code, Merging into Main, Updating Feature Branches, Resolving Conflicts\n",
        "\n",
        "Let's go through the whole process. With your team:\n",
        "\n",
        "1) The assigned reviewer should review and merge the first PR\n",
        "\n",
        "2) Look at one of the other PRs... can it be merged?\n",
        "\n",
        "3) Update your feature branches and repeat the PR -> merge process until all PR's are closed\n",
        "\n",
        "4) At least two people should open new feature branches ... and this time they should make changes to the same file!\n",
        "\n",
        "5) Merge someones branch into main, try to update the other branch, work to resolve the conflicts.\n",
        "    - We suggest looking at both the raw text file (see the way git denotes the conflicting lines) and trying to use the VSCode conflict resolution tool\n",
        "    - If you have the Git extension installed and open the conflicting file in VSCode, it will automatically suggest the conflict resolution tool."
      ]
    },
    {
      "cell_type": "markdown",
      "metadata": {},
      "source": [
        "#### **Facilitating Easier Merges (Fewer Conflicts)**\n",
        "\n",
        "Lots of small commits, using an agreed upon format specification (or a linter), think about the feature development list and prioritize"
      ]
    },
    {
      "cell_type": "markdown",
      "metadata": {},
      "source": [
        "\n",
        "#### **Opening Issues**"
      ]
    },
    {
      "cell_type": "markdown",
      "metadata": {},
      "source": [
        "### **Forking a Repo**"
      ]
    },
    {
      "cell_type": "markdown",
      "metadata": {},
      "source": [
        "## Collaborative Git Best Practices\n",
        "\n",
        "- Commit often with descriptive commit messages (don't say things like \"bugfix\", \"changes\", \"commit\")\n",
        "- Update your branch on main often\n",
        "- Use branches to complete new features\n",
        "- Use Pull Requests to merge features into main\n",
        "- Squash merges are always preferred\n",
        "- Use Git issues to track your work (past, current, and future)\n",
        "- Add tests where possible to verify the status of your main branch\n",
        "- Agree upon style and formatting specifications \n",
        "- Use tags to denote stable points between major feature developments\n",
        "- Add Git Rules to your repo to enforce the desired workflow (e.g., protect branches, always squash)\n",
        "- Favor branching over forking"
      ]
    },
    {
      "cell_type": "markdown",
      "metadata": {},
      "source": [
        "## Open Source Software Best Practices"
      ]
    },
    {
      "cell_type": "markdown",
      "metadata": {},
      "source": [
        "## Thinking About Data Storage for Open Science"
      ]
    },
    {
      "cell_type": "markdown",
      "metadata": {
        "vscode": {
          "languageId": "plaintext"
        }
      },
      "source": [
        "Cloud-optimized formats for Geospatial data include: Cloud-Optimized GeoTIFF (COG), GeoParquet, Zarr, FlatGeobuf, Cloud-Optimized Point Clouds (COPC), and more\n",
        "\n",
        "There are many possible ways to do data storage. If you are able to store your data so that data acquisition integrates with tools like Xarray and Dask, then\n",
        "your platform will be all the more powerful and accessible. There is no one way to do this, and it is important to consider where your users will be doing their analysis, \n",
        "how much data they will need at a time, and how they will query the main database to find what they want. \n",
        "\n",
        "If possible, using a cloud-optimized format is ideal. It will make access to and use of the data more efficient, in some cases by orders of magnitude."
      ]
    },
    {
      "cell_type": "markdown",
      "metadata": {},
      "source": [
        "[Zarr](https://zarr.dev/) \n",
        "\n",
        "[What is Zarr?](https://earthmover.io/blog/what-is-zarr)\n",
        "\n",
        "[Zarr and Xarray](https://tutorial.xarray.dev/intermediate/intro-to-zarr.html) \n",
        "\n",
        "[Example project: CryoCloud](https://book.cryointhecloud.com/) \n",
        "\n",
        "[International Interactive Computing Collaboration](https://2i2c.org/)"
      ]
    },
    {
      "cell_type": "markdown",
      "metadata": {},
      "source": [
        "## Migrating Your Workflow to a Remote Server"
      ]
    },
    {
      "cell_type": "markdown",
      "metadata": {},
      "source": [
        "We will discuss to popular ways to use Python and Conda on a server:\n",
        "\n",
        "1) VSCode Remote-SSH\n",
        "\n",
        "2) Jupyter Notebooks with SSH Tunneling\n",
        "\n",
        "3) Python scripts run in a detached terminal with `screen` or `tmux`"
      ]
    },
    {
      "cell_type": "markdown",
      "metadata": {},
      "source": [
        "### VSCode and Remote-SSH \n",
        "\n",
        "The VSCode Extension **Remote-SSH** allows you to SSH into a server through the code-editor. You will then be able to navigate your files on the server, load conda environments, and save files with the exact same interface you use on your laptop.\n",
        "\n",
        "1) Install the Remote-SSH extension in VSCode\n",
        "\n",
        "2) Open the control panel (cmd + shift + p)\n",
        "\n",
        "3) Type `Remote-SSH` and select `Remote-SSH: Connect to Host...`\n",
        "\n",
        "4) Select `+ Add New SSH Host`\n",
        "\n",
        "5) Enter the credentials for your server\n",
        "\n",
        "6) Enter your password\n",
        "\n",
        "This will log you into your server and will open a new VSCode window (which will be in the filesystem on the server). The first time you do this, you may have to wait a few minutes after logging in while VSCode installs the necessary tools on the server side. After you have done this the first time, you will be able to select the host name from the list of known hosts (instead of adding a new one) and input your password. You will no longer need to type out ssh username@ip_address."
      ]
    },
    {
      "cell_type": "markdown",
      "metadata": {},
      "source": [
        "### Jupyter Notebooks with SSH Tunneling\n",
        "\n",
        "1) Log into your server (ssh username@your-server-address)\n",
        "\n",
        "2) Run `jupyter-lab --no-browser` in the folder you want to work from\n",
        "\n",
        "3) jupyter lab will start, and the output in the terminal will include a line that looks like `Or copy and paste one of these URLs: http://localhost:8888/lab?token=some-long-token`\n",
        "\n",
        "    a) The port number (in this case 8888) is the port on the server that the jupyter lab information is piped to\n",
        "\n",
        "    b) We need to link a port on the laptop to the port on the server and then we can open the webpage like we are used to\n",
        "\n",
        "4) open a new terminal and run `ssh -L 8888:localhost:8888 username@your-server-address`\n",
        "\n",
        "    a) This links port localhost port 8888 on our laptop to localhost port 8888 on the server. These numbers don't have to be the same.\n",
        "\n",
        "    b) If port 8888 on our laptop is taken, we can try another number. `ssh -L 8890:localhost:8888 username@your-server-address`. The server port needs to match the number in the jupyter lab output.\n",
        "\n",
        "    c) Enter your password\n",
        "\n",
        "5) Copy and paste the URL from the jupyter lab output into your web browser (`http://localhost:8888/lab?token=some-long-token`)"
      ]
    },
    {
      "cell_type": "markdown",
      "metadata": {},
      "source": [
        "### Running Python Scripts in a Detached Terminal\n",
        "\n",
        "The `tmux` command allows you to open terminals in which you can start a program that won't die even when the terminal is closed. This is useful for running on a server because a normal terminal will kill whatever process is running if you close the window, close your computer, or lose your internet connection. That is not a practical way to work if we need to run programs that take a long time.\n",
        "\n",
        "`screen` is an alternative to `tmux`, although it is somewhat outdated.\n",
        "\n",
        "This workflow would look something like:\n",
        "\n",
        "1) Develop your Python script on a small set of data. This could be done in a Jupyter notebook or python script on the server or on your laptop. \n",
        "\n",
        "2) Organize the analysis you need to do into a script or set of scripts.\n",
        "\n",
        "3) Open a terminal with the appropriate `tmux` or `screen` command (see instructions below).\n",
        "\n",
        "4) Activate your conda environment.\n",
        "\n",
        "5) Run your Python program. Alternatively you could have a bash script that runs a whole list of Python programs.\n",
        "\n",
        "At this point you can close the terminal and your programs will continue to run on the server."
      ]
    },
    {
      "cell_type": "markdown",
      "metadata": {},
      "source": [
        "### Using Git to Move and Track your Work\n",
        "\n",
        "Git repositories provide an easy way to move work between locations (and to make sure you don't lose anything because you are switching between platforms). To use Git on a server:\n",
        "\n",
        "1) Log into the server\n",
        "\n",
        "2) Generate a new SSH key pair (the key pair should end up in your home directory on the server at ~/.ssh/)\n",
        "\n",
        "3) Add the _public_ key to your GitHub profile through Settings -> SSH and GPG Keys -> Add SSH key\n",
        "\n",
        "Once you have done the above, you can use your Git account to track the work you do on the server. Your research project repo can be downloaded on both the server and on your local computer. When you make changes in one place, you can add, commit, and push them. When you return to the other location you can do a `git pull` to see the updated work. \n",
        "\n",
        "An example workflow:\n",
        "\n",
        "1) Starting a project from scratch: Create a repo on your local computer or in your GitHub account. Clone that repo to the server. Do your work in the repo. Before you log out, add and commit the changes. Return to your local computer and `git pull` to see the updated project without being logged into the computer. This is a great way to keep figures up to date. You will generate new figures, commit and push both the figures and the code that generated them, and then pull them to your local computer. This negates the need to use `scp` or `rsync` to continually move around copies of your figures and prevents confusion about which code generated which version of the figures.\n",
        "\n",
        "2) Tracking an existing project: Log onto your server. Navigate into a directory where you have code for your project. Use `git init` to make the project into a repository (make sure to have a .gitignore file!). Push the repo to your GitHub. Proceed with your work on the server. Add and commit (and push) any changes before you log out. Return to your local computer, use the link on GitHub to clone your repository. Now you can see the work you were doing on the server!"
      ]
    },
    {
      "cell_type": "markdown",
      "metadata": {},
      "source": [
        "## Bash Scripting"
      ]
    },
    {
      "cell_type": "markdown",
      "metadata": {},
      "source": [
        "We should insert a couple quick examples (what to put in a bash script). But we don't need to get fancy. How to execuate any one specific task is a good ChatGPT question."
      ]
    },
    {
      "cell_type": "markdown",
      "metadata": {},
      "source": [
        "## AI Agents and Tools for Coding"
      ]
    },
    {
      "cell_type": "markdown",
      "metadata": {},
      "source": [
        "The world of AI tools for coding is evolving rapidly... and everything we talk about in this lesson will likely be out of date soon. This discussion is intended to provide a bit of guidance that will likely remain relevant, even as the agents themselves evolve. We will not discuss an exhaustive list of agents, and instead we will touch on a few that are popular right now (August 2025). Our goal is to shed a bit of light on how AI could augment your workflow, how they are being used to generate new code that you may interact with, and how they can also waste your time or lead you down rabbit holes.\n",
        "\n",
        "The AI tools we will discuss today are:\n",
        "- ChatGPT (AI chat bot)\n",
        "- GitHub Co-Pilot (AI assistant in your IDE)\n",
        "- Cursor (AI-native IDE)\n",
        "- Claude Code (AI command line tool)\n",
        "\n",
        "The differences between these tools include the size and scope of their _context_ window in addition to their level of autonomy, interactivity, and control. The more *agentic* a tool is, the more it is able to reason, debug, execute code, and generate new content on its own.\n",
        "\n",
        "The above tools are primariliy based on these Large-language models (LLMs), all of which are proprietary:\n",
        "- Anthropic's Claude models (Claude Opus, Claude Sonnet, and Claude Haiku)\n",
        "- OpenAI's GPT models (GPT-3.5, GPT-4, GPT4-Turbo)\n",
        "\n",
        "All of these tools also have tiered access with subscription plans, and in general their usage is capped, even for subscribers."
      ]
    },
    {
      "cell_type": "markdown",
      "metadata": {},
      "source": [
        "### What is the context window?"
      ]
    },
    {
      "cell_type": "markdown",
      "metadata": {},
      "source": [
        "### What are these models trained on?\n",
        "\n",
        "- GitHub public repositories\n",
        "- Stack Overflow\n",
        "- Technical documentation\n",
        "- Programming textbooks and tutorials\n",
        "- Natural language + code mix (e.g., docstrings, commit messages)\n",
        "- Some (like Claude and GPT-4) are multi-modal and can reason about code in text, files, and diagrams."
      ]
    },
    {
      "cell_type": "markdown",
      "metadata": {},
      "source": [
        "### What are the implications of AI in software? Are these tools making our research better? \n",
        "\n",
        "The links below are intended to provoke discussion, and provide a bit of caution. They do not reflect the opinions of anyone in the software workshop. It is worth thinking about when and where to use AI in your workflow, such that you make your work better not worse.\n",
        "\n",
        "[Does AI Understand Bugs?](https://venturebeat.com/ai/ai-can-fix-bugs-but-cant-find-them-openais-study-highlights-limits-of-llms-in-software-engineering/)   \n",
        "\n",
        "[Are developers getting less efficient?](https://arxiv.org/abs/2507.09089)\n",
        "\n",
        "[Are AI bugs worse than normal bugs?](https://doctorow.medium.com/https-pluralistic-net-2025-08-04-bad-vibe-coding-maximally-codelike-bugs-8372979b3933)\n",
        "\n",
        "These models are just statistical tools. They cannot genuinely reason, and they hallucinate all of the time (i.e., they generate false information without indicating that their response is not reliable). In some cases the tool will even double down on its hallucination unless prompted in the right way. \n",
        "\n",
        "For example, a few weeks ago I asked ChatGPT to generate an Apple Keynote file for me, not thinking about the fact that Keynote is a proprietary format (therefore it cannot do this). It generated several garbage files before I asked whether it was actually capable of completing the task. It responded by telling me that it definitely could and would do it by \"handling it outside of ChatGPT\". The rest of our conversation is below:"
      ]
    },
    {
      "cell_type": "markdown",
      "metadata": {},
      "source": [
        "<img src=\"_static/chat_gpt_hallucination.png\" width=\"750\">"
      ]
    },
    {
      "cell_type": "markdown",
      "metadata": {},
      "source": []
    }
  ],
  "metadata": {
    "kernelspec": {
      "display_name": "Python 3",
      "language": "python",
      "name": "python3"
    },
    "language_info": {
      "name": "python",
      "version": "3.12.6"
    }
  },
  "nbformat": 4,
  "nbformat_minor": 2
}

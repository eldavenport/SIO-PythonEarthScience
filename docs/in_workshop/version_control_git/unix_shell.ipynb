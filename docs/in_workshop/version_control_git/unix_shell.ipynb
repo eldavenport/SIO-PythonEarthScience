{
  "cells": [
    {
      "cell_type": "markdown",
      "metadata": {},
      "source": [
        "# The Unix Shell\n",
        "\n",
        "This course will have two parts. \n",
        "\n",
        "__Part I__ will discuss basic concepts such as \n",
        "\n",
        "* Introduction to the shell\n",
        "* Navigating the file system (pwd, ls, cd)\n",
        "* Moving files and directories (mv)\n",
        "* Copying files and directories (cp)\n",
        "* Deleting files and directories (rm)\n",
        "\n",
        "__Part II__ will have more advanced topics such as \n",
        "\n",
        "* Working with files and searches (wc)\n",
        "* Redirecting output (>,>>)\n",
        "* Pipes (|, sort, tail)\n",
        "* Finding Things (grep, find)\n",
        "\n",
        "A lot of this course is based off of the material from the Software Carpentry website: [The Unix Shell](https://swcarpentry.github.io/shell-novice/07-find.html). This tutorial is meant for you to walkthorugh by typing the commands in your terminal. We will also be working with a dataset which is the [shell-lesson-data](https://drive.google.com/file/d/1r3uKC19rY-cxJ7_Ia7ZYx1_berJ-mZl-/view?usp=drive_link). Download the zip file from the link and unzip the file in the Documents directory. "
      ]
    },
    {
      "cell_type": "markdown",
      "metadata": {},
      "source": [
        "## __Part I__\n",
        "\n",
        "### a) Introduction to Unix Shell\n",
        "\n",
        "Unix is a powerful operating system (OS) that is used around the world. There are many OS based on Unix such as BSD, Mac OS and Linux among many others. These OSs use a Graphical User Interface (GUI) which can give instructions to the OS through visualization and using menu-driven interactions through a computer mouse.\n",
        "\n",
        "The GUI allows an intuitive method for using a computer and can help with many tasks. However, when required to perform multiple analytic based the GUI does not work as well as the __Unix Shell__. The Unix Shell is a __Command-Line Interface__ and scripting language that can be accessed through a terminal. There are different types of CLIs\n",
        "\n",
        "* __Bash__ - Default for most Linux systems and what we will use for this tutorial\n",
        "* Zsh - Default for Mac OS (similar to Bash)\n",
        "* Csh\n",
        "* Bourne Shell\n",
        "\n",
        "The CLI is powerful as you can customize the interface as well as run various programs either locally or on remote servers through **S**ecure **SH**ell (SSH). The below image is a typical example of a terminal\n",
        "\n",
        "<img src=\"_static/shell_terminal.jpg\" width=\"500\">"
      ]
    },
    {
      "cell_type": "markdown",
      "metadata": {},
      "source": [
        "In our examples we have created an account called __sio__ on a computer named __localhost__. The $ is the prompt and users can begin entering commands after the prompt. The features of the terminal can be customized through your bash profile. As mentioned previously, we will be using the Bash shell for our examples. To determine which shell you are using you can run the following command.\n",
        "\n",
        "```\n",
        "sio@localhost $ echo $0\n",
        "```\n",
        "\n",
        "For Mac OS users, the default CLI is zsh. If you are using a zsh shell then that is fine and there are no additional changes needed as zsh is very similar to bash. We will also later go into the __echo__ program as well as what the __$__ is used for (not the prompt)."
      ]
    },
    {
      "cell_type": "code",
      "execution_count": null,
      "metadata": {
        "vscode": {
          "languageId": "shellscript"
        }
      },
      "outputs": [],
      "source": [
        "echo $0\n",
        "\n",
        "# output\n",
        "-bash"
      ]
    },
    {
      "cell_type": "markdown",
      "metadata": {},
      "source": [
        "### b)  Navigating through Files and Directories\n",
        "\n",
        "Every Unix based OS has a hierarchical structure to organize files and folders. This is known as the __file system__. The root directory is the Top-level folder and is represted by a foward slash, ```/```. Every subfolder is known as the __child__ or __subdirectory__ of the __parent__ folder.\n",
        "\n",
        "<img src=\"_static/directory_structure.jpg\" width=\"1000\">\n",
        "\n",
        "When starting the CLI your folder will be located in ```/Users/username```. For the examples used in this tutorial it will be ```/Users/sio```. This is referred to as the __home directory. You can see which directory you are currently in by type ```pwd``` (Print Working Direcotry).\n"
      ]
    },
    {
      "cell_type": "code",
      "execution_count": null,
      "metadata": {
        "vscode": {
          "languageId": "shellscript"
        }
      },
      "outputs": [],
      "source": [
        "# input\n",
        "sio@localhost $ pwd\n",
        "\n",
        "# output\n",
        "sio@localhost $ /Users/sio"
      ]
    },
    {
      "cell_type": "markdown",
      "metadata": {},
      "source": [
        "To begin we will start with changing directories. You can change directories with the ```cd``` (**c**hange **d**irectory) command. Let's change the directory to where we had stored the shell-lesson data"
      ]
    },
    {
      "cell_type": "code",
      "execution_count": null,
      "metadata": {
        "vscode": {
          "languageId": "shellscript"
        }
      },
      "outputs": [
        {
          "name": "stdout",
          "output_type": "stream",
          "text": [
            "/Users/sio/Documents/shell-lesson-data\n"
          ]
        }
      ],
      "source": [
        "cd /Users/sio/Documents/shell-lesson-data"
      ]
    },
    {
      "cell_type": "code",
      "execution_count": 21,
      "metadata": {
        "vscode": {
          "languageId": "shellscript"
        }
      },
      "outputs": [
        {
          "data": {
            "text/plain": [
              "'/Users/sio/Documents/shell-lesson-data'"
            ]
          },
          "execution_count": 21,
          "metadata": {},
          "output_type": "execute_result"
        }
      ],
      "source": [
        "pwd"
      ]
    },
    {
      "cell_type": "markdown",
      "metadata": {},
      "source": [
        "With ```cd``` command we had changed the directory and the ```pwd``` command shows which location we are in. We can also list files in the directory with the ```ls``` command."
      ]
    },
    {
      "cell_type": "code",
      "execution_count": 23,
      "metadata": {
        "vscode": {
          "languageId": "shellscript"
        }
      },
      "outputs": [
        {
          "name": "stdout",
          "output_type": "stream",
          "text": [
            "\u001b[34mexercise-data\u001b[m\u001b[m/      \u001b[34mnorth-pacific-gyre\u001b[m\u001b[m/\n"
          ]
        }
      ],
      "source": [
        "ls"
      ]
    },
    {
      "cell_type": "markdown",
      "metadata": {
        "vscode": {
          "languageId": "shellscript"
        }
      },
      "source": [
        "There are several built in shortcuts that can be used with various commands. The tilde, ```~``` is a shortcut to your home directory. If you wanted to change your directory back to home you could type in\n",
        "\n",
        "```cd ~```\n",
        "\n",
        "To go back to the directory you were just in you could use the dash, ```-``` \n",
        "\n",
        "```cd -```\n",
        "\n",
        "You can also move up to the parent directory by using the ```..`` shortcut\n",
        "\n",
        "```cd ..  # moves up one directory```\n",
        "\n",
        "Often times we would like to see what commands we had previously run in a session. This could be done by using the ```history``` command. \n",
        "\n",
        "Lastly, to clear the screen use the ```clear``` command"
      ]
    },
    {
      "cell_type": "code",
      "execution_count": 25,
      "metadata": {
        "vscode": {
          "languageId": "shellscript"
        }
      },
      "outputs": [
        {
          "name": "stdout",
          "output_type": "stream",
          "text": [
            "\u001b[H\u001b[2J"
          ]
        }
      ],
      "source": [
        "clear"
      ]
    },
    {
      "cell_type": "markdown",
      "metadata": {},
      "source": [
        "When referring to directories and paths we often talk about the absolute path or the relative path. The absolute path is the entire path of a directory, for example \n",
        "\n",
        "```/Users/sio/Documents```\n",
        "\n",
        "Would be the absolute path towards the Documents directory. If we were in the documents directory and wanted to access the shell-lesson-data then the relative path would be\n",
        "\n",
        "```Documents/shell-lesson-data```\n",
        "\n",
        "Besides listing what objects there are in a directory the ```ls``` command, in addition to providing options, can also list information on if the item is a file or folder, the size of the object as well as when the object was last modified\n",
        "\n",
        "```ls -lsG```\n",
        "\n",
        "<img src=\"_static/ls_meaning.jpg\" width=\"1000\">\n",
        "\n",
        "There will be times, especially on a remote server, where you cannot copy or remove files in a specific directory. This is because of user or group permissions\n",
        "\n",
        "<img src=\"_static/ls_meaning_2.jpg\" width=\"1000\">\n"
      ]
    },
    {
      "cell_type": "markdown",
      "metadata": {
        "vscode": {
          "languageId": "shellscript"
        }
      },
      "source": [
        "When using ```ls``` with the ```-l``` option you will see the permission structure for the Owner, Group and Other. In the below screenshot we see the following permissions\n",
        "\n",
        "```drwxr-xr-x 7 tgstone staff```\n",
        "\n",
        "<img src=\"_static/ls_permissions.jpg\" width=\"1000\">\n",
        "\n",
        "There will always be ten characters in this first column. The first index determines if the object is a file, ```-```, or a directory ```d```. In the above example we see that the docs object is a directory.\n",
        "\n",
        "The next three characters are the permissions for the Owner. \n",
        "\n",
        "* r -**r**ead\n",
        "* w - **w**rite\n",
        "* x - e**x**ecute\n",
        "\n",
        "The owner, tgstone, has read,write and execute permissions for the docs folder. \n",
        "\n",
        "The next three characters determine the permissions for the group. The Group is **staff** and the permissions are **r**ead and e**x**ecute. The dash indicates that they do not have permissions for the **w**.\n",
        "\n",
        "Lastly, if the user is not the owner or in the group then they are placed in the **Other** category. The permissions for other are read and execute. The ```chmod``` command can be used to change an objects permissions but this is outside the scope of this tutorial."
      ]
    },
    {
      "cell_type": "markdown",
      "metadata": {},
      "source": [
        "Using ```ls``` with the ```-h``` option lists all hidden files. Hidden files are files or folders that begin with a ```.```\n",
        "\n",
        "<img src='_static/ls_hidden.jpg' width=\"1000\">"
      ]
    }
  ],
  "metadata": {
    "kernelspec": {
      "display_name": "sio_python",
      "language": "python",
      "name": "python3"
    },
    "language_info": {
      "codemirror_mode": {
        "name": "ipython",
        "version": 3
      },
      "file_extension": ".py",
      "mimetype": "text/x-python",
      "name": "python",
      "nbconvert_exporter": "python",
      "pygments_lexer": "ipython3",
      "version": "3.13.5"
    }
  },
  "nbformat": 4,
  "nbformat_minor": 2
}

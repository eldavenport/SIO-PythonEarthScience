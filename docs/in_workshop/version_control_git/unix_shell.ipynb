{
  "cells": [
    {
      "cell_type": "markdown",
      "metadata": {},
      "source": [
        "# The Unix Shell\n",
        "\n",
        "This course will have two parts. __Part I__ will discuss basic concepts such as \n",
        "\n",
        "* Introduction to the shell\n",
        "* Navigating the file system (pwd, ls, cd)\n",
        "* Moving files and directories (mv)\n",
        "* Copying files and directories (cp)\n",
        "* Deleting files and directories (rm)\n",
        "\n",
        "__Part II__ will have more advanced topics such as \n",
        "\n",
        "* Working with files and searches\n",
        "* Pipes\n",
        "* Shell Scripting"
      ]
    },
    {
      "cell_type": "markdown",
      "metadata": {},
      "source": [
        "## __Part I__\n",
        "\n",
        "### 1) Introduction to Unix Shell\n",
        "\n",
        "Unix is a powerful operating system (OS) that is used around the world. There are many OS based on Unix such as BSD, Mac OS and Linux among many others. These OSs use a Graphical User Interface (GUI) which can give instructions to the OS through visualization and using menu-driven interactions through a computer mouse.\n",
        "\n",
        "The GUI allows an intuitive method for using a computer and can help with many tasks. However, when required to perform multiple analytic based the GUI does not work as well as the __Unix Shell__. The Unix Shell is a __Command-Line Interface__ and scripting language that can be accessed through a terminal. There are different types of CLIs\n",
        "\n",
        "* __Bash__ - Default for most Linux systems and what we will use for this tutorial\n",
        "* Zsh - Default for Mac OS (similar to Bash)\n",
        "* Csh\n",
        "* Bourne Shell\n",
        "\n",
        "The CLI is powerful as you can customize the interface as well as run various programs either locally or on remote servers through **S**ecure **SH**ell (SSH). \n"
      ]
    },
    {
      "cell_type": "code",
      "execution_count": null,
      "metadata": {},
      "outputs": [],
      "source": [
        "print('Hello from the notebook!')"
      ]
    }
  ],
  "metadata": {
    "kernelspec": {
      "display_name": "Python 3",
      "language": "python",
      "name": "python3"
    },
    "language_info": {
      "name": "python",
      "version": "3.12.6"
    }
  },
  "nbformat": 4,
  "nbformat_minor": 2
}

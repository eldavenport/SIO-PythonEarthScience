{
  "cells": [
    {
      "cell_type": "markdown",
      "metadata": {},
      "source": [
        "# Version Control With Git"
      ]
    },
    {
      "cell_type": "markdown",
      "metadata": {},
      "source": [
        "## **Setting up Your SSH Keys**"
      ]
    },
    {
      "cell_type": "markdown",
      "metadata": {},
      "source": [
        "SSH keys identify your computer, and allow for the secure exchange of files between your computer and Git. You will only be able to push code to GitHub if your computer has an SSH key that is registered to your GitHub account. The following code should be run in the terminal.\n",
        "\n",
        "**NOTE** generating a set of SSH keys generates a private key (for you) and a public key (to be used on GitHub or on a server). _Do not EVER_ share a private SSH key with someone. Only ever put the .pub key online."
      ]
    },
    {
      "cell_type": "code",
      "execution_count": null,
      "metadata": {
        "vscode": {
          "languageId": "shellscript"
        }
      },
      "outputs": [],
      "source": [
        "# go to your home directory\n",
        "cd ~/\n",
        "# generate a new SSH key pair\n",
        "# By default this will create a key pair in ~/.ssh/id_rsa (id_rsa and id_rsa.pub)\n",
        "# IF YOU ALREADY HAVE A FILE CALLED id_rsa, you should specify a different name\n",
        "ssh-keygen \n",
        "\n",
        "# follow the prompts. pressing eneter will accept the defaults. \n",
        "# you will have the option to give your new key a new name. do not set a passphrase."
      ]
    },
    {
      "cell_type": "markdown",
      "metadata": {},
      "source": [
        "Go to your GitHub settings. Settings -> SSH and GPG Keys -> New SSH Key. Give it a name you will recognize (ellen's-laptop). Copy the contents of .ssh/id_rsa.pub (or your specified filename) into the new key info on GitHub. Click 'Add SSH Key'."
      ]
    },
    {
      "cell_type": "markdown",
      "metadata": {},
      "source": [
        "## **Verify your Git Installation**"
      ]
    },
    {
      "cell_type": "markdown",
      "metadata": {},
      "source": [
        "Everyone should already be able to run ```git --version``` in their terminal, in order to identify that you have git installed (it will tell you which version)."
      ]
    },
    {
      "cell_type": "code",
      "execution_count": 2,
      "metadata": {
        "vscode": {
          "languageId": "shellscript"
        }
      },
      "outputs": [
        {
          "name": "stdout",
          "output_type": "stream",
          "text": [
            "git version 2.50.1\n"
          ]
        }
      ],
      "source": [
        "git --version"
      ]
    },
    {
      "cell_type": "markdown",
      "metadata": {},
      "source": [
        "Git commands always have the same structure: \n",
        "\n",
        "``` git <command> <options> ```"
      ]
    },
    {
      "cell_type": "markdown",
      "metadata": {},
      "source": [
        "## **Configuring your Git Username and Email**"
      ]
    },
    {
      "cell_type": "markdown",
      "metadata": {},
      "source": [
        "The first thing we will do is configure our installation of Git to know who we are. This identifies you (and your GitHub account) as the person who made the file changes. The email you use should be the email associated with your GitHub account."
      ]
    },
    {
      "cell_type": "code",
      "execution_count": 4,
      "metadata": {
        "vscode": {
          "languageId": "shellscript"
        }
      },
      "outputs": [],
      "source": [
        "git config --global user.name \"eldavenport\"\n",
        "git config --global user.email \"ellendavenport7@gmail.com\""
      ]
    },
    {
      "cell_type": "markdown",
      "metadata": {},
      "source": [
        "## **Setting up a Repository**"
      ]
    },
    {
      "cell_type": "markdown",
      "metadata": {
        "vscode": {
          "languageId": "shellscript"
        }
      },
      "source": [
        "_All of this code should be run from the terminal_"
      ]
    },
    {
      "cell_type": "markdown",
      "metadata": {},
      "source": [
        "Next we need to choose a folder that we want to track. Use ```mkdir``` to create a new folder that will serve as our version controlled project."
      ]
    },
    {
      "cell_type": "markdown",
      "metadata": {},
      "source": [
        "**TIP** There is no single way to name a repository, but if you want to follow the most popular convention, it is called kebab-case. kebab-case separates lower case words with hyphens. This can help to distinguish code from regular directories on your computer."
      ]
    },
    {
      "cell_type": "code",
      "execution_count": 5,
      "metadata": {
        "vscode": {
          "languageId": "shellscript"
        }
      },
      "outputs": [],
      "source": [
        "# make the new folder, called new-repo\n",
        "mkdir new-repo\n",
        "\n",
        "# enter the new project\n",
        "cd new-repo\n",
        "\n",
        "#check that we are in the right place\n",
        "pwd\n"
      ]
    },
    {
      "cell_type": "code",
      "execution_count": null,
      "metadata": {
        "vscode": {
          "languageId": "shellscript"
        }
      },
      "outputs": [],
      "source": [
        "# initialize this folder as a git repository\n",
        "git init "
      ]
    },
    {
      "cell_type": "markdown",
      "metadata": {},
      "source": [
        "You should see output like the following:\n",
        "```\n",
        "hint: Using 'master' as the name for the initial branch. This default branch name\n",
        "hint: is subject to change. To configure the initial branch name to use in all\n",
        "hint: of your new repositories, which will suppress this warning, call:\n",
        "hint:\n",
        "hint: \tgit config --global init.defaultBranch <name>\n",
        "hint:\n",
        "hint: Names commonly chosen instead of 'master' are 'main', 'trunk' and\n",
        "hint: 'development'. The just-created branch can be renamed via this command:\n",
        "hint:\n",
        "hint: \tgit branch -m <name>\n",
        "hint:\n",
        "hint: Disable this message with \"git config set advice.defaultBranchName false\"\n",
        "Initialized empty Git repository in <path-to-your-repo>/new-repo/.git/\n",
        "```"
      ]
    },
    {
      "cell_type": "markdown",
      "metadata": {},
      "source": [
        "**TIP** Git output **always** tells you how to do the next thing. Always read the output of your git commands to know how to proceed. For example, we are going to do what was suggested in the hints and rename our default branch from `master` to `main` using `git branch -m <name>`."
      ]
    },
    {
      "cell_type": "code",
      "execution_count": null,
      "metadata": {
        "vscode": {
          "languageId": "shellscript"
        }
      },
      "outputs": [],
      "source": [
        "# change the default branch name to main, if this succeeds there will be no output. \n",
        "git branch -m main\n",
        "\n",
        "# check that we are on main\n",
        "git status"
      ]
    },
    {
      "cell_type": "markdown",
      "metadata": {},
      "source": [
        "You should see the following (note that, again, git told us what to do next!):\n",
        "```\n",
        "On branch main\n",
        "\n",
        "No commits yet\n",
        "\n",
        "nothing to commit (create/copy files and use \"git add\" to track)\n",
        "```"
      ]
    },
    {
      "cell_type": "markdown",
      "metadata": {
        "vscode": {
          "languageId": "shellscript"
        }
      },
      "source": [
        "Every Git repository should have a README.md (markdown file). At the least this file just says the name of the repository. Over time it can include details such as links to supporting references, DOIs, links to papers or zenodo, installation instructions."
      ]
    },
    {
      "cell_type": "code",
      "execution_count": null,
      "metadata": {
        "vscode": {
          "languageId": "shellscript"
        }
      },
      "outputs": [],
      "source": [
        "# Create a README markdown file that says the repository name using echo and >> \n",
        "echo \"# new-repo\" >> README.md"
      ]
    },
    {
      "cell_type": "markdown",
      "metadata": {
        "vscode": {
          "languageId": "shellscript"
        }
      },
      "source": [
        "Now that we have added a file called README.md we should see something new when we run `git status`."
      ]
    },
    {
      "cell_type": "code",
      "execution_count": null,
      "metadata": {
        "vscode": {
          "languageId": "shellscript"
        }
      },
      "outputs": [],
      "source": [
        "git status"
      ]
    },
    {
      "cell_type": "markdown",
      "metadata": {},
      "source": [
        "Output:\n",
        "```\n",
        "On branch main\n",
        "\n",
        "No commits yet\n",
        "\n",
        "Untracked files:\n",
        "  (use \"git add <file>...\" to include in what will be committed)\n",
        "\tREADME.md\n",
        "\n",
        "nothing added to commit but untracked files present (use \"git add\" to track)\n",
        "```"
      ]
    },
    {
      "cell_type": "markdown",
      "metadata": {},
      "source": [
        "Git can see that we have a new file that didn't exist before and that it is not tracked (indicated by the red color). Git also tells us that we have not staged anything to commit. Better yet, the output of `git status` tells us what we need to do to track this new file."
      ]
    },
    {
      "cell_type": "code",
      "execution_count": null,
      "metadata": {
        "vscode": {
          "languageId": "shellscript"
        }
      },
      "outputs": [],
      "source": [
        "# add the README file to the staging area\n",
        "git add README.md"
      ]
    },
    {
      "cell_type": "code",
      "execution_count": null,
      "metadata": {
        "vscode": {
          "languageId": "shellscript"
        }
      },
      "outputs": [],
      "source": [
        "git status"
      ]
    },
    {
      "cell_type": "markdown",
      "metadata": {},
      "source": [
        "Output:\n",
        "```\n",
        "On branch main\n",
        "\n",
        "No commits yet\n",
        "\n",
        "Changes to be committed:\n",
        "  (use \"git rm --cached <file>...\" to unstage)\n",
        "\tnew file:   README.md\n",
        "\n",
        "```"
      ]
    },
    {
      "cell_type": "markdown",
      "metadata": {},
      "source": [
        "Git sees that we have staged the README.md file (indicated by green color) and indicates that it will be committed (when we use `git commit`). It also indicates the type of file (new file). In other cases this might indicated a changed file, deleted file, or moved file. "
      ]
    },
    {
      "cell_type": "markdown",
      "metadata": {
        "vscode": {
          "languageId": "shellscript"
        }
      },
      "source": [
        "**TIP** always, always, always use commit messages. You can technically commit without any message, but adding a commit message with the `-m` option will add a short descriptor to the commit. This will be critical for collaborating with others and looking at the history of your changes."
      ]
    },
    {
      "cell_type": "code",
      "execution_count": null,
      "metadata": {
        "vscode": {
          "languageId": "shellscript"
        }
      },
      "outputs": [],
      "source": [
        "# commit our changes with a message indicating this is the first commit to the repo\n",
        "git commit -m \"initial commit\""
      ]
    },
    {
      "cell_type": "markdown",
      "metadata": {},
      "source": [
        "Output:\n",
        "```\n",
        "[main (root-commit) 3aa75e5] initial commit\n",
        " 1 file changed, 1 insertion(+)\n",
        " create mode 100644 README.md\n",
        "```"
      ]
    },
    {
      "cell_type": "code",
      "execution_count": null,
      "metadata": {
        "vscode": {
          "languageId": "shellscript"
        }
      },
      "outputs": [],
      "source": [
        "git status"
      ]
    },
    {
      "cell_type": "markdown",
      "metadata": {},
      "source": [
        "Output:\n",
        "```\n",
        "On branch main\n",
        "nothing to commit, working tree clean\n",
        "```"
      ]
    },
    {
      "cell_type": "markdown",
      "metadata": {},
      "source": [
        "Now we can also look at our history to see what has happened so far in this repository."
      ]
    },
    {
      "cell_type": "code",
      "execution_count": null,
      "metadata": {
        "vscode": {
          "languageId": "shellscript"
        }
      },
      "outputs": [],
      "source": [
        "# check the history of commits in this repo\n",
        "git log"
      ]
    },
    {
      "cell_type": "markdown",
      "metadata": {},
      "source": [
        "Output: \n",
        "```\n",
        "commit 3aa75e5bcd3810a17511db947d50d7d75a728818 (HEAD -> main)\n",
        "Author: eldavenport <ellendavenport7@gmail.com>\n",
        "Date:   Thu Jul 31 11:23:35 2025 -0700\n",
        "\n",
        "    initial commit\n",
        "```"
      ]
    },
    {
      "cell_type": "markdown",
      "metadata": {
        "vscode": {
          "languageId": "shellscript"
        }
      },
      "source": [
        "We can see the date and time of the commit, who authored the commit, and the commit message. We can also see a unique identifier for the commit called the commit _hash_. In this case the hash starts with 3aa75. Commit hashes will be useful in more advanced git actions."
      ]
    },
    {
      "cell_type": "markdown",
      "metadata": {},
      "source": [
        "## **Pushing our changes up to GitHub** "
      ]
    },
    {
      "cell_type": "markdown",
      "metadata": {},
      "source": [
        "Let's summarize where we are...\n",
        "\n",
        "1) we have a repository named new-repo\n",
        "2) we created a README.md for new-repo and we committed it\n",
        "\n",
        "This means that our current version of README.md is saved, and we can always return to this state even if we upate README.md and commit the changes. Our git log will always allow us to return to this exact version of the README.md if we want.\n",
        "\n",
        "But ... there's one issue. Our work is only on our local computer. We need to finish the initialization by pushing the work up to GitHub. Then our work is backed up _and_ our changes are tracked."
      ]
    },
    {
      "cell_type": "markdown",
      "metadata": {
        "vscode": {
          "languageId": "shellscript"
        }
      },
      "source": [
        "### **Create a new repository on GitHub**\n",
        "\n",
        "See our tutorial on 'Navigating GitHub' and then return here to continue."
      ]
    },
    {
      "cell_type": "markdown",
      "metadata": {},
      "source": [
        "### **Link our Local Repo to the GitHub one**"
      ]
    },
    {
      "cell_type": "code",
      "execution_count": null,
      "metadata": {
        "vscode": {
          "languageId": "shellscript"
        }
      },
      "outputs": [],
      "source": [
        "# Tell Git where we will send the code when we push it to the cloud (i.e., GitHub).\n",
        "# This creates a repository on our GitHub that is backed up. \n",
        "# Our local version of the repo will be synced to the GitHub repo.\n",
        "git remote add origin git@github.com:<git-username>/<reponame>.git\n",
        "\n",
        "# For me this will be git@github.com:eldavenport/new-repo.git"
      ]
    },
    {
      "cell_type": "markdown",
      "metadata": {
        "vscode": {
          "languageId": "shellscript"
        }
      },
      "source": [
        "### **Let's push our repo to the cloud!**"
      ]
    },
    {
      "cell_type": "markdown",
      "metadata": {},
      "source": [
        "**TIP** The _first_ time your create a new repository, you have to tell Git which remote (i.e., in the cloud) repository the changes should be linked to. This is done with the command `-u`. The `-u` stands for `upstream`, which is the repository on GitHub. In most cases the upstream and the local copy of your repo (i.e., the folder your work is in) will be named this same thing. After you have done this once, you no longer need to use `-u`."
      ]
    },
    {
      "cell_type": "code",
      "execution_count": null,
      "metadata": {
        "vscode": {
          "languageId": "shellscript"
        }
      },
      "outputs": [],
      "source": [
        "# Push our changes (right now just a markdown file) to the cloud\n",
        "# origin indicates we are pushing to the remote (origin, which we added above)\n",
        "# main indicates we are pushing to the main branch (we are on main locally and pushing to main remotely)\n",
        "\n",
        "git push -u origin main"
      ]
    },
    {
      "cell_type": "markdown",
      "metadata": {},
      "source": [
        "Output:\n",
        "```\n",
        "Enumerating objects: 3, done.\n",
        "Counting objects: 100% (3/3), done.\n",
        "Writing objects: 100% (3/3), 223 bytes | 223.00 KiB/s, done.\n",
        "Total 3 (delta 0), reused 0 (delta 0), pack-reused 0 (from 0)\n",
        "To github.com:eldavenport/new-repo.git\n",
        " * [new branch]      main -> main\n",
        "branch 'main' set up to track 'origin/main'.\n",
        "```\n",
        "\n",
        "This tells us that we pushed our local branch main to the remote branch main (`main -> main`). It also notifies us that this is a new branch (`* [new branch]`) and that our local branch `main` is tracking the remote branch `origin/main`. `origin/` will always indicate a location on the remote. "
      ]
    },
    {
      "cell_type": "markdown",
      "metadata": {},
      "source": [
        "### **Refresh your GitHub page and you should see the new repo!** "
      ]
    },
    {
      "cell_type": "markdown",
      "metadata": {},
      "source": [
        "Note how the online interface contains tons of info, including: Who authored the last changes, when were the last changes made, what files do we have, what is our change history, is the repo public, etc."
      ]
    },
    {
      "cell_type": "markdown",
      "metadata": {},
      "source": [
        "### **Adding a .gitignore**\n",
        "\n",
        "You do not want to use git as a data storage location. Text files are very small. Data files can be very large. GitHub has a limit to the amount of stuff that can go in a single repo. It is a few GB which would be TONS of code...but not that much data. Pushing/pulling and checking the status of your files will get very slow if Git has to scan big data files every time. Data should be stored in an actual storage location (on a server, drive, or cloud location). You can also have a copy of data locally and you can tell Git to ignore it. We do this by creating a .gitignore file."
      ]
    },
    {
      "cell_type": "code",
      "execution_count": null,
      "metadata": {
        "vscode": {
          "languageId": "shellscript"
        }
      },
      "outputs": [],
      "source": [
        "# create and open a file called .gitignore (in the top level of the repo, i.e., in new-repo/)\n",
        "vim .gitignore"
      ]
    },
    {
      "cell_type": "code",
      "execution_count": null,
      "metadata": {
        "vscode": {
          "languageId": "shellscript"
        }
      },
      "outputs": [],
      "source": [
        "# insert the following line to ignore .csv files in the top level\n",
        "*.csv \n",
        "\n",
        "# insert the following line to ignore .csv files in all subfolders \n",
        "**.csv "
      ]
    },
    {
      "cell_type": "markdown",
      "metadata": {},
      "source": [
        "If I want to ignore all mat, csv, and netcdf files in my project (i.e., not add them to be tracked by my repository). My file new-repo/.gitignore will contain the following:\n",
        "```\n",
        "**.csv\n",
        "**.nc\n",
        "**.cdf \n",
        "**.mat\n",
        "```"
      ]
    },
    {
      "cell_type": "code",
      "execution_count": null,
      "metadata": {
        "vscode": {
          "languageId": "shellscript"
        }
      },
      "outputs": [],
      "source": [
        "git status"
      ]
    },
    {
      "cell_type": "markdown",
      "metadata": {},
      "source": [
        "Output:\n",
        "```\n",
        "On branch main\n",
        "Your branch is up to date with 'origin/main'.\n",
        "\n",
        "Untracked files:\n",
        "  (use \"git add <file>...\" to include in what will be committed)\n",
        "\t.gitignore\n",
        "\n",
        "nothing added to commit but untracked files present (use \"git add\" to track)\n",
        "```"
      ]
    },
    {
      "cell_type": "code",
      "execution_count": null,
      "metadata": {
        "vscode": {
          "languageId": "shellscript"
        }
      },
      "outputs": [],
      "source": [
        "git add .gitignore\n",
        "git commit -m \"adding gitignore file\"\n",
        "git push "
      ]
    },
    {
      "cell_type": "markdown",
      "metadata": {},
      "source": [
        "At this point you can move data files into your repo and git will not try to track them."
      ]
    },
    {
      "cell_type": "markdown",
      "metadata": {},
      "source": [
        "## **Exercises**"
      ]
    },
    {
      "cell_type": "markdown",
      "metadata": {},
      "source": [
        "### 1 \n",
        "\n",
        "A trust building experiment ... \n",
        "\n",
        "1) delete the repo on your computer\n",
        "2) make sure it is gone! (`rm -rf` that thing!)\n",
        "3) ... reassure yourself that it is still on GitHub! nothing has changed...\n",
        "4) go to a new location in your computer\n",
        "5) clone your new repostiory to this new location \n",
        "6) cd into the repo to see that your README.md file is there!"
      ]
    },
    {
      "cell_type": "markdown",
      "metadata": {},
      "source": [
        "### 2 \n",
        "\n",
        "Add your own work to GitHub! Please! Take this time to add a project of your own to GitHub. We would love to see people do this now, so that you can explore or share your code online throughout the rest of our tutorials. **Make sure to add a .gitignore to ignore any large data files before you push the new repo to GitHub!**"
      ]
    },
    {
      "cell_type": "markdown",
      "metadata": {},
      "source": [
        "### 3\n",
        "\n",
        "Make a test repo and have your neighbor clone it to their computer!"
      ]
    },
    {
      "cell_type": "markdown",
      "metadata": {},
      "source": [
        "### 4\n",
        "\n",
        "Add a python script to your repo (create one or copy an existing one here). Add and commit the script and push it to GitHub. "
      ]
    },
    {
      "cell_type": "markdown",
      "metadata": {},
      "source": [
        "## **Best Practices For Personal Repos**\n",
        "\n",
        "- Adding README.md\n",
        "- commit messages, how to structure your work\n",
        "- Licensing\n",
        "- Add a note about how to reference\n",
        "- Security (push/pull protections)\n",
        "- Do not store large files, [Git Large File Storage](https://docs.github.com/en/repositories/working-with-files/managing-large-files/about-git-large-file-storage)"
      ]
    },
    {
      "cell_type": "markdown",
      "metadata": {},
      "source": [
        "## **Advanced Topics**"
      ]
    },
    {
      "cell_type": "markdown",
      "metadata": {},
      "source": [
        "1) git checkout \n",
        "    \n",
        "    a) checking out specific commits\n",
        "\n",
        "    b) checkout out other branches\n",
        "\n",
        "    c) creating and checking out tags\n",
        "\n",
        "2) creating GitHub issues\n",
        "    \n",
        "    a) how to open an issue\n",
        "    \n",
        "    b) what should I put in my issue?\n",
        "    "
      ]
    },
    {
      "cell_type": "markdown",
      "metadata": {},
      "source": []
    }
  ],
  "metadata": {
    "kernelspec": {
      "display_name": "Python 3",
      "language": "python",
      "name": "python3"
    },
    "language_info": {
      "codemirror_mode": {
        "name": "ipython",
        "version": 3
      },
      "file_extension": ".py",
      "mimetype": "text/x-python",
      "name": "python",
      "nbconvert_exporter": "python",
      "pygments_lexer": "ipython3",
      "version": "3.12.2"
    }
  },
  "nbformat": 4,
  "nbformat_minor": 2
}

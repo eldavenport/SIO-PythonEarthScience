{
 "cells": [
  {
   "cell_type": "markdown",
   "metadata": {},
   "source": [
    "# The Unix Shell\n",
    "\n",
    "This course will have two parts. \n",
    "\n",
    "__Part I__ will discuss basic concepts such as \n",
    "\n",
    "* Introduction to the shell\n",
    "* Navigating the file system (pwd, ls, cd)\n",
    "* Moving files and directories (mv)\n",
    "* Copying files and directories (cp)\n",
    "* Deleting files and directories (rm)\n",
    "\n",
    "__Part II__ will have more advanced topics such as \n",
    "\n",
    "* Working with files and searches (wc)\n",
    "* Redirecting output (>,>>)\n",
    "* Pipes (|, sort, tail)\n",
    "* Finding Things (grep, find)\n",
    "\n",
    "A lot of this course is based off of the material from the Software Carpentry website: [The Unix Shell](https://swcarpentry.github.io/shell-novice/07-find.html). This tutorial is meant for you to walkthorugh by typing the commands in your terminal. We will also be working with a dataset which is the [shell-lesson-data](https://drive.google.com/file/d/1r3uKC19rY-cxJ7_Ia7ZYx1_berJ-mZl-/view?usp=drive_link). Download the zip file from the link and unzip the file in the Documents directory. "
   ]
  },
  {
   "cell_type": "markdown",
   "metadata": {},
   "source": [
    "## __Part I__\n",
    "\n",
    "### 1) Introduction to Unix Shell\n",
    "#### a) Shell Basics\n",
    "\n",
    "Unix is a powerful operating system (OS) that is used around the world. There are many OS based on Unix such as BSD, Mac OS and Linux among many others. These OSs use a Graphical User Interface (GUI) which can give instructions to the OS through visualization and using menu-driven interactions through a computer mouse.\n",
    "\n",
    "The GUI allows an intuitive method for using a computer and can help with many tasks. However, when required to perform multiple analytic based the GUI does not work as well as the __Unix Shell__. The Unix Shell is a __Command-Line Interface__ and scripting language that can be accessed through a terminal. There are different types of CLIs\n",
    "\n",
    "* __Bash__ - Default for most Linux systems and what we will use for this tutorial\n",
    "* Zsh - Default for Mac OS (similar to Bash)\n",
    "* Csh\n",
    "* Bourne Shell\n",
    "\n",
    "The CLI is powerful as you can customize the interface as well as run various programs either locally or on remote servers through **S**ecure **SH**ell (SSH). The below image is a typical example of a terminal\n",
    "\n",
    "<img src=\"_static/shell_terminal.jpg\" width=\"500\">"
   ]
  },
  {
   "cell_type": "markdown",
   "metadata": {},
   "source": [
    "In our examples we have created an account called __sio__ on a computer named __localhost__. The $ is the prompt and users can begin entering commands after the prompt. The features of the terminal can be customized through your bash profile. As mentioned previously, we will be using the Bash shell for our examples. To determine which shell you are using you can run the following command.\n",
    "\n",
    "```\n",
    "sio@localhost $ echo $0\n",
    "```\n",
    "\n",
    "For Mac OS users, the default CLI is zsh. If you are using a zsh shell then that is fine and there are no additional changes needed as zsh is very similar to bash. We will also later go into the __echo__ program as well as what the __$__ is used for (not the prompt)."
   ]
  },
  {
   "cell_type": "code",
   "execution_count": null,
   "metadata": {
    "vscode": {
     "languageId": "shellscript"
    }
   },
   "outputs": [],
   "source": [
    "echo $0\n",
    "\n",
    "# output\n",
    "-bash"
   ]
  },
  {
   "cell_type": "markdown",
   "metadata": {},
   "source": [
    "### 2)  Navigating through Files and Directories\n",
    "\n",
    "Every Unix based OS has a hierarchical structure to organize files and folders. This is known as the __file system__. The root directory is the Top-level folder and is represted by a foward slash, ```/```. Every subfolder is known as the __child__ or __subdirectory__ of the __parent__ folder.\n",
    "\n",
    "<img src=\"_static/directory_structure.jpg\" width=\"1000\">\n",
    "\n",
    "When starting the CLI your folder will be located in ```/Users/username```. For the examples used in this tutorial it will be ```/Users/sio```. This is referred to as the __home directory. You can see which directory you are currently in by type ```pwd``` (Print Working Direcotry).\n"
   ]
  },
  {
   "cell_type": "code",
   "execution_count": null,
   "metadata": {
    "vscode": {
     "languageId": "shellscript"
    }
   },
   "outputs": [],
   "source": [
    "# input\n",
    "sio@localhost $ pwd\n",
    "\n",
    "# output\n",
    "sio@localhost $ /Users/sio"
   ]
  },
  {
   "cell_type": "markdown",
   "metadata": {},
   "source": [
    "To begin we will start with changing directories. You can change directories with the ```cd``` (**c**hange **d**irectory) command. Let's change the directory to where we had stored the shell-lesson data"
   ]
  },
  {
   "cell_type": "code",
   "execution_count": null,
   "metadata": {
    "vscode": {
     "languageId": "shellscript"
    }
   },
   "outputs": [
    {
     "name": "stdout",
     "output_type": "stream",
     "text": [
      "/Users/sio/Documents/shell-lesson-data\n"
     ]
    }
   ],
   "source": [
    "cd /Users/sio/Documents/shell-lesson-data"
   ]
  },
  {
   "cell_type": "code",
   "execution_count": 21,
   "metadata": {
    "vscode": {
     "languageId": "shellscript"
    }
   },
   "outputs": [
    {
     "data": {
      "text/plain": [
       "'/Users/sio/Documents/shell-lesson-data'"
      ]
     },
     "execution_count": 21,
     "metadata": {},
     "output_type": "execute_result"
    }
   ],
   "source": [
    "pwd"
   ]
  },
  {
   "cell_type": "markdown",
   "metadata": {},
   "source": [
    "With ```cd``` command we had changed the directory and the ```pwd``` command shows which location we are in. We can also list files in the directory with the ```ls``` command."
   ]
  },
  {
   "cell_type": "code",
   "execution_count": 23,
   "metadata": {
    "vscode": {
     "languageId": "shellscript"
    }
   },
   "outputs": [
    {
     "name": "stdout",
     "output_type": "stream",
     "text": [
      "\u001b[34mexercise-data\u001b[m\u001b[m/      \u001b[34mnorth-pacific-gyre\u001b[m\u001b[m/\n"
     ]
    }
   ],
   "source": [
    "ls"
   ]
  },
  {
   "cell_type": "markdown",
   "metadata": {
    "vscode": {
     "languageId": "shellscript"
    }
   },
   "source": [
    "There are several built in shortcuts that can be used with various commands. The tilde, ```~``` is a shortcut to your home directory. If you wanted to change your directory back to home you could type in\n",
    "\n",
    "```cd ~```\n",
    "\n",
    "To go back to the directory you were just in you could use the dash, ```-``` \n",
    "\n",
    "```cd -```\n",
    "\n",
    "You can also move up to the parent directory by using the ```..`` shortcut\n",
    "\n",
    "```cd ..  # moves up one directory```\n",
    "\n",
    "Often times we would like to see what commands we had previously run in a session. This could be done by using the ```history``` command. \n",
    "\n",
    "Lastly, to clear the screen use the ```clear``` command"
   ]
  },
  {
   "cell_type": "code",
   "execution_count": 25,
   "metadata": {
    "vscode": {
     "languageId": "shellscript"
    }
   },
   "outputs": [
    {
     "name": "stdout",
     "output_type": "stream",
     "text": [
      "\u001b[H\u001b[2J"
     ]
    }
   ],
   "source": [
    "clear"
   ]
  },
  {
   "cell_type": "markdown",
   "metadata": {},
   "source": [
    "When referring to directories and paths we often talk about the absolute path or the relative path. The absolute path is the entire path of a directory, for example \n",
    "\n",
    "```/Users/sio/Documents```\n",
    "\n",
    "Would be the absolute path towards the Documents directory. If we were in the documents directory and wanted to access the shell-lesson-data then the relative path would be\n",
    "\n",
    "```Documents/shell-lesson-data```\n",
    "\n",
    "Besides listing what objects there are in a directory the ```ls``` command, in addition to providing options, can also list information on if the item is a file or folder, the size of the object as well as when the object was last modified\n",
    "\n",
    "```ls -lsG```\n",
    "\n",
    "<img src=\"_static/ls_meaning.jpg\" width=\"1000\">\n",
    "\n",
    "There will be times, especially on a remote server, where you cannot copy or remove files in a specific directory. This is because of user or group permissions\n",
    "\n",
    "<img src=\"_static/ls_meaning_2.jpg\" width=\"1000\">\n"
   ]
  },
  {
   "cell_type": "markdown",
   "metadata": {
    "vscode": {
     "languageId": "shellscript"
    }
   },
   "source": [
    "When using ```ls``` with the ```-l``` option you will see the permission structure for the Owner, Group and Other. In the below screenshot we see the following permissions\n",
    "\n",
    "```drwxr-xr-x 7 tgstone staff```\n",
    "\n",
    "<img src=\"_static/ls_permissions.jpg\" width=\"1000\">\n",
    "\n",
    "There will always be ten characters in this first column. The first index determines if the object is a file, ```-```, or a directory ```d```. In the above example we see that the docs object is a directory.\n",
    "\n",
    "The next three characters are the permissions for the Owner. \n",
    "\n",
    "* r -**r**ead\n",
    "* w - **w**rite\n",
    "* x - e**x**ecute\n",
    "\n",
    "The owner, tgstone, has read,write and execute permissions for the docs folder. \n",
    "\n",
    "The next three characters determine the permissions for the group. The Group is **staff** and the permissions are **r**ead and e**x**ecute. The dash indicates that they do not have permissions for the **w**.\n",
    "\n",
    "Lastly, if the user is not the owner or in the group then they are placed in the **Other** category. The permissions for other are read and execute. The ```chmod``` command can be used to change an objects permissions but this is outside the scope of this tutorial."
   ]
  },
  {
   "cell_type": "markdown",
   "metadata": {},
   "source": [
    "Using ```ls``` with the ```-h``` option lists all hidden files. Hidden files are files or folders that begin with a ```.```\n",
    "\n",
    "<img src='_static/ls_hidden.jpg' width=\"1000\">"
   ]
  },
  {
   "cell_type": "markdown",
   "metadata": {
    "vscode": {
     "languageId": "shellscript"
    }
   },
   "source": [
    "#### a) Syntax and Commands\n",
    "\n",
    "We will now go over examples of command syntax \n",
    "\n",
    "```sio@localhost $ ls -lGh .```\n",
    "\n",
    "<img src=\"_static/command_syntax.jpg\" width=\"1000\">\n",
    "\n",
    "Generally with the CLI we will run the command, give additional options and then list the arguments. Some commands do not follow this form (such as ```find```) however it is important to know how we can enter the commands. The **option** list additional information we want to include with our command and the ```.``` (this is a shortcut for current directory) determines which object we are working with. The ```-lGh``` options allow us to see the directory in **l**ong format )```-l```, color code files and directories (```-G```) and list all **hidden** files (```-h```).\n",
    "\n",
    "Often times you will see ```.``` or ```..``` used in a command\n",
    "* ```.``` refers to the current directory\n",
    "* ```..``` refers to the directory above"
   ]
  },
  {
   "cell_type": "markdown",
   "metadata": {},
   "source": [
    "#### b) Finding more information\n",
    "\n",
    "If we want to find what options are avaiable or how a command works we can use the ```help``` command or look at the ```man``` (**man**ual) pages.\n",
    "\n",
    "```help pwd```\n",
    "\n",
    "<img src=\"_static/help.jpg\" width=\"1000\">\n",
    "\n",
    "```man pwd```\n",
    "\n",
    "<img src=\"_static/man.jpg\" width=\"1000\">\n",
    "\n",
    "Lastly, thanks to the advances of AI, we could also just use an LLM to get additional information on a command or how to use a command\n",
    "\n",
    "<img src=\"_static/chatgpt.jpg\" width=\"1000\">"
   ]
  },
  {
   "cell_type": "markdown",
   "metadata": {},
   "source": [
    "### 3) Creating, deleting, copying and moving files and folders\n",
    "\n",
    "Now that we have the ability to view information in the file system we want to be able to manipulate objects. Some of these basic tasks can be done with a few commands\n",
    "\n",
    "* ```mkdir``` - Create directories\n",
    "* ```touch``` or \n",
    "* ```mv``` - To move files and directories\n",
    "* ```cp``` - To copy files and directories\n",
    "* ```rm``` - To remove files and directories (need additional options to remove a directory)\n",
    "* ```rmdir``` - To remove a directory \n",
    "\n",
    "#### a) Creating directories\n",
    "\n",
    "Currently you should be in the ```shell-lesson-data/exercise-data``` directory. Confirm this information with the ```pwd``` command. We can create a new folder called thesis"
   ]
  },
  {
   "cell_type": "code",
   "execution_count": 14,
   "metadata": {
    "vscode": {
     "languageId": "shellscript"
    }
   },
   "outputs": [],
   "source": [
    "mkdir thesis"
   ]
  },
  {
   "cell_type": "markdown",
   "metadata": {
    "vscode": {
     "languageId": "shellscript"
    }
   },
   "source": [
    "You can also create sub directories using the ```-p``` option"
   ]
  },
  {
   "cell_type": "code",
   "execution_count": 15,
   "metadata": {
    "vscode": {
     "languageId": "shellscript"
    }
   },
   "outputs": [],
   "source": [
    "mkdir -p ../project/data ../project/result"
   ]
  },
  {
   "cell_type": "markdown",
   "metadata": {},
   "source": [
    "#### b) Creating files\n",
    "\n",
    "There are multiple options when creating a file\n",
    "\n",
    "1) Create a new file with the ```touch``` command. The ```touch``` command is often use when you need a file for initialization. As an example, in previous versions of python the ```__init__.py``` file was required to make a module. No information was needed in the file, only that it existed"
   ]
  },
  {
   "cell_type": "code",
   "execution_count": null,
   "metadata": {
    "vscode": {
     "languageId": "shellscript"
    }
   },
   "outputs": [],
   "source": [
    "touch thesis/draft.txt"
   ]
  },
  {
   "cell_type": "markdown",
   "metadata": {},
   "source": [
    "2) Use an editor such as nano, vim or emacs to create a file"
   ]
  },
  {
   "cell_type": "code",
   "execution_count": null,
   "metadata": {
    "vscode": {
     "languageId": "shellscript"
    }
   },
   "outputs": [],
   "source": [
    "nano thesis/draft.txt "
   ]
  },
  {
   "cell_type": "markdown",
   "metadata": {},
   "source": [
    "#### c) Moving files and directories\n",
    "\n",
    "To move a file or folder to another location or rename the object, we use the ```mv``` command. If we wanted to change the name of the draft.txt file we just created to quotes.txt\n",
    "\n",
    "__WARNING:__ If you rename a file and there is another file with the same name, it will be overwritten"
   ]
  },
  {
   "cell_type": "code",
   "execution_count": null,
   "metadata": {
    "vscode": {
     "languageId": "shellscript"
    }
   },
   "outputs": [],
   "source": [
    "\n",
    "mv thesis/draft.txt thesis/quotes.txt\n"
   ]
  },
  {
   "cell_type": "markdown",
   "metadata": {},
   "source": [
    "If we wanted to move the quotes files to our current directory we could specify the file and write out the destination"
   ]
  },
  {
   "cell_type": "code",
   "execution_count": null,
   "metadata": {
    "vscode": {
     "languageId": "shellscript"
    }
   },
   "outputs": [],
   "source": [
    "mv thesis/quotes.txt ."
   ]
  },
  {
   "cell_type": "markdown",
   "metadata": {},
   "source": [
    "Let's say that we created a **references.tex**, **introduction.tex** and **methods.txt** file in the wrong directory. "
   ]
  },
  {
   "cell_type": "code",
   "execution_count": null,
   "metadata": {
    "vscode": {
     "languageId": "shellscript"
    }
   },
   "outputs": [],
   "source": [
    "touch references.tex introduction.tex methods.txt"
   ]
  },
  {
   "cell_type": "markdown",
   "metadata": {},
   "source": [
    "To move these files to the **thesis** directory we have two options\n",
    "\n",
    "1) Manually move the files by listing each file\n",
    "\n",
    "```mv introduction.tex references.tex thesis```\n",
    "\n",
    "2) Use special that describe patterns to move the files\n",
    "\n"
   ]
  },
  {
   "cell_type": "code",
   "execution_count": null,
   "metadata": {
    "vscode": {
     "languageId": "shellscript"
    }
   },
   "outputs": [],
   "source": [
    "mv *.tex *.txt thesis"
   ]
  },
  {
   "cell_type": "markdown",
   "metadata": {},
   "source": [
    "<u>The __*__ Character</u>\n",
    "\n",
    "The __*__ characters is called the **wildcard** (also known as a **glob**). It is used to match 0 or more characters in a file or directory. Use the .tex file as an example, the wilcard is stating that any file that has a .tex at the end will be moved to thesis. Another example is if we only wanted to move files that started with an r and ended with a .tex we could write ```m*.tex```"
   ]
  },
  {
   "cell_type": "markdown",
   "metadata": {},
   "source": [
    "#### d) Copying files and directories\n",
    "\n",
    "Similar to moving files, we can also copy files and folders into new locations. This is done with the ```cp``` command\n",
    "\n",
    "\n"
   ]
  },
  {
   "cell_type": "code",
   "execution_count": null,
   "metadata": {
    "vscode": {
     "languageId": "shellscript"
    }
   },
   "outputs": [],
   "source": [
    "cp quotes.txt thesis/quotations.txt"
   ]
  },
  {
   "cell_type": "markdown",
   "metadata": {},
   "source": [
    "Notice that, in addition to copying the file, we have also renamed the file to ```quotations.txt```. To copy multiple files and folders we need to include the recursive option, ```-r```. The below command will create a backup of the thesis folder and name it ```thesis_backup```"
   ]
  },
  {
   "cell_type": "code",
   "execution_count": 22,
   "metadata": {
    "vscode": {
     "languageId": "shellscript"
    }
   },
   "outputs": [],
   "source": [
    "cp -r thesis thesis_backup"
   ]
  },
  {
   "cell_type": "markdown",
   "metadata": {},
   "source": [
    "#### e) Removing files and directories\n",
    "\n",
    "We can now delete the quotes.txt file since it was in the wrong directory"
   ]
  },
  {
   "cell_type": "code",
   "execution_count": null,
   "metadata": {
    "vscode": {
     "languageId": "shellscript"
    }
   },
   "outputs": [],
   "source": [
    "rm quotes.txt"
   ]
  },
  {
   "cell_type": "markdown",
   "metadata": {},
   "source": [
    "**WARNING**: The remove command does not move the file to the trash bin. It 'unlinks' the file which will mark that the space as unused on the hard drive so it can be used for other items. This means that the file cannot be recovered. There are special programs that can perform this recovery but it is often very difficult to do.\n",
    "\n",
    "If we want to remove an empty directory we can use the ```rmdir``` command. If we need to remove a directory that contains items we use the ```rm``` command with the ```-r``` option (recursive)."
   ]
  },
  {
   "cell_type": "code",
   "execution_count": null,
   "metadata": {
    "vscode": {
     "languageId": "shellscript"
    }
   },
   "outputs": [],
   "source": [
    "rm -ir thesis"
   ]
  },
  {
   "cell_type": "markdown",
   "metadata": {
    "vscode": {
     "languageId": "shellscript"
    }
   },
   "source": [
    "I have included the ```-i``` option above. Often times we may accidentally delete files in a folder that we were not aware of. The ```-i``` option prompts for confirmation of deleting each file. Now that we have covered the basics of the Unix shell we can move onto the fun stuff"
   ]
  },
  {
   "cell_type": "markdown",
   "metadata": {},
   "source": [
    "## Part II - The Fun Stuff\n",
    "\n",
    "### 1) Working with files and searches\n",
    "\n",
    "Navigate to the ```shell-lesson-data/exercise-data/writing``` directory. Inside the writing directory is a file called **abstract.txt**. Using the ```wc``` command we can list \n",
    "\n",
    "1) The number of lines in the file\n",
    "2) The number of words\n",
    "3) How many bytes the file uses.\n",
    "\n",
    "For the ```wc``` command the ```-l``` option only displays the number of lines and the ```-c``` option only displays the size of the file (in bytes)."
   ]
  },
  {
   "cell_type": "code",
   "execution_count": null,
   "metadata": {
    "vscode": {
     "languageId": "shellscript"
    }
   },
   "outputs": [],
   "source": [
    "cd writing \n",
    "wc abstract.txt"
   ]
  },
  {
   "cell_type": "markdown",
   "metadata": {},
   "source": [
    "<img src=\"_static/abstract_wc.jpg\" width=\"1000\">\n",
    "\n",
    "If we wanted to know the number of lines, words and sizes of each file as well as the sum for the lines, words and sizes we could use the wildcard character"
   ]
  },
  {
   "cell_type": "code",
   "execution_count": null,
   "metadata": {
    "vscode": {
     "languageId": "shellscript"
    }
   },
   "outputs": [],
   "source": [
    "wc *.txt"
   ]
  },
  {
   "cell_type": "markdown",
   "metadata": {},
   "source": [
    "<img src=\"_static/abstract_wc_all.jpg\" width=\"1000\">"
   ]
  },
  {
   "cell_type": "markdown",
   "metadata": {},
   "source": [
    "### 2) Redirecting output\n",
    "\n",
    "In the above example there are only three files listed, if we had thousands of files that we were trying to determine the size we may want to use another method for outputting the data. In the CLI we can use the ```>``` characters to move the information from std output (i.e. Unix shell) to a file"
   ]
  },
  {
   "cell_type": "code",
   "execution_count": null,
   "metadata": {
    "vscode": {
     "languageId": "shellscript"
    }
   },
   "outputs": [],
   "source": [
    "wc *.txt > lengths.txt"
   ]
  },
  {
   "cell_type": "markdown",
   "metadata": {},
   "source": [
    "Notice that nothing is displayed in the CLI. This is because we have decided to write the information to the **lengths.txt** file.\n",
    "\n",
    "<u>Redirect Option </u>\n",
    "* ```>``` willl create  the file if it doesn't exist or, if the file does exist, it will **overwrite** the file\n",
    "* ```>>``` will create the file if it doesn't exist or **append** the new information to the file\n",
    "\n",
    "We can confirm that the data was written to the **lengths.txt** file by using the ```cat``` command"
   ]
  },
  {
   "cell_type": "code",
   "execution_count": null,
   "metadata": {
    "vscode": {
     "languageId": "shellscript"
    }
   },
   "outputs": [],
   "source": [
    "cat lengths.txt"
   ]
  },
  {
   "cell_type": "markdown",
   "metadata": {},
   "source": [
    "### 3) Using the Pipe | \n",
    "\n",
    "The reason why the Unix shell is so powerful is that it has the ability to chain together multiple commands. This is done using the pipe ```|```. If we wanted to sort the output of the data we could use the ```sort``` command"
   ]
  },
  {
   "cell_type": "code",
   "execution_count": null,
   "metadata": {
    "vscode": {
     "languageId": "shellscript"
    }
   },
   "outputs": [],
   "source": [
    "wc *.txt | sort -n "
   ]
  },
  {
   "cell_type": "markdown",
   "metadata": {},
   "source": [
    "The ```-n``` option sorts the numeric values. Given our example again, if we wanted to know which were the largest files in our directory we could use the ```tail``` command to view the bottom three entries"
   ]
  },
  {
   "cell_type": "code",
   "execution_count": null,
   "metadata": {
    "vscode": {
     "languageId": "shellscript"
    }
   },
   "outputs": [],
   "source": [
    "wc *.txt | sort -n | tail -n 3"
   ]
  },
  {
   "cell_type": "markdown",
   "metadata": {},
   "source": [
    "### 4) Finding Things\n",
    "\n",
    "Often times it is difficult to remember the location of files or directories on servers or computers. This is especially true when dealing with multiple iterations of a program or script. There are two powerful tools that can be used to find items within directories and text documents. \n",
    "\n",
    "* ```grep``` A utility that searches any given input file, selecting lines that match one or more patterns\n",
    "* ```find``` A utility that recursively descends the directory tree for each path listed, evaluating the expression in terms of each file in the tree"
   ]
  },
  {
   "cell_type": "markdown",
   "metadata": {},
   "source": [
    "In the current **writing** directory there is a file called **haiku.txt**. If we wanted to search for any words that have the word \"not\" in the line we could use ```grep```"
   ]
  },
  {
   "cell_type": "code",
   "execution_count": null,
   "metadata": {
    "vscode": {
     "languageId": "shellscript"
    }
   },
   "outputs": [],
   "source": [
    "grep not haiku.txt"
   ]
  },
  {
   "cell_type": "markdown",
   "metadata": {
    "vscode": {
     "languageId": "shellscript"
    }
   },
   "source": [
    "<img src=\"_static/grep_not.jpg\" width=\"1000\">"
   ]
  },
  {
   "cell_type": "markdown",
   "metadata": {},
   "source": [
    "We see that grep has successfully returned all the lines that have the word __not__ in it. Let's try again with using __The__ as a pattern to search for "
   ]
  },
  {
   "cell_type": "code",
   "execution_count": null,
   "metadata": {
    "vscode": {
     "languageId": "shellscript"
    }
   },
   "outputs": [],
   "source": [
    "grep The haiku.txt"
   ]
  },
  {
   "cell_type": "markdown",
   "metadata": {},
   "source": [
    "<img src=\"_static/grep_The.jpg\" width = \"500\">\n",
    "\n",
    "First, we see that grep also included words that have the sequence \"The\" in them. Additionally, we see from the below image by running ```cat haiku.txt``` that all lower case versions of the word __the__ were missed. \n",
    "\n",
    "<img src=\"_static/haiku.jpg\" width =\"500\">\n",
    "\n",
    "To fix this we can include additional options to perform a better search "
   ]
  },
  {
   "cell_type": "code",
   "execution_count": null,
   "metadata": {
    "vscode": {
     "languageId": "shellscript"
    }
   },
   "outputs": [],
   "source": [
    "grep -win The haiku.txt"
   ]
  },
  {
   "cell_type": "markdown",
   "metadata": {},
   "source": [
    "<img src=\"_static/grep_win.jpg\" width = \"650\">\n",
    "\n",
    "From above image grep is now returning what we had initially intended. This shows that\n",
    "\n",
    "* ```grep``` by default is case-sensitive. Using the ```-i``` option allows ```grep``` to be case-insensitive\n",
    "* ```grep``` will search for any sequence of a pattern. Using ```-w``` will search for the word\n",
    "* We can also return line numbers with grep by using the ```-n``` option. \n",
    "\n",
    "\n",
    "If we wanted to search multiple text files in a directory as well as the subdirectories we could use the recursive option, ```-r``` with grep"
   ]
  },
  {
   "cell_type": "code",
   "execution_count": null,
   "metadata": {
    "vscode": {
     "languageId": "shellscript"
    }
   },
   "outputs": [],
   "source": [
    "grep -iwnr \"Yesterday\" ."
   ]
  },
  {
   "cell_type": "markdown",
   "metadata": {},
   "source": [
    "From the above command we see that, in addition to the options and patter, we also now must include the directory we want to search. It is important to note that grep only works with ASCII (text) files and cannot search binary files. \n",
    "\n",
    "### 5) grep and the pipe\n",
    "\n",
    "Just as with any other program, we can also pipe things to grep so that it can search. As an example, when users want to find a command that had previously been executed in the terminal they can use the ```history``` command with ```grep```"
   ]
  },
  {
   "cell_type": "code",
   "execution_count": null,
   "metadata": {
    "vscode": {
     "languageId": "shellscript"
    }
   },
   "outputs": [],
   "source": [
    "history | grep -i \"cd\""
   ]
  },
  {
   "cell_type": "markdown",
   "metadata": {},
   "source": [
    "The above command will list the entire history and return only the lines that have \"cd\" in the string. \n",
    "\n",
    "### 6) find: a tool for searching for directories and files\n",
    "\n",
    "```grep``` is used to search for information within a file. The ```find``` searches the file system to match patterns associated with a file and a directory."
   ]
  },
  {
   "cell_type": "code",
   "execution_count": null,
   "metadata": {
    "vscode": {
     "languageId": "shellscript"
    }
   },
   "outputs": [],
   "source": [
    "find ."
   ]
  },
  {
   "cell_type": "markdown",
   "metadata": {},
   "source": [
    "<src img=\"_static/grep_not.jpg\" width=\"1000\">"
   ]
  },
  {
   "cell_type": "markdown",
   "metadata": {
    "vscode": {
     "languageId": "shellscript"
    }
   },
   "source": [
    "The above command will recursively search for all files and directories in the current working directory and display them to the std output. \n",
    "\n",
    "To search only for directories use the ```-type d``` option\n",
    "\n",
    "```find . -type d```\n",
    "\n",
    "To search for files use ```-type f``` instead\n",
    "\n",
    "```find . -type f```\n",
    "\n",
    "To find text files you can use patterns associated with file names\n",
    "\n",
    "```find . -type f -name \"*.txt\"```\n",
    "\n",
    "Notice that find doesn't match our typical syntax for Unix shell commands. Find can also be used to display the path to a file or directory and used with other commands. As an example, if we wanted to find all text files that match the pattern **NE\\*.txt** and determine how many lines the files have"
   ]
  },
  {
   "cell_type": "code",
   "execution_count": null,
   "metadata": {
    "vscode": {
     "languageId": "shellscript"
    }
   },
   "outputs": [],
   "source": [
    "wc -l $(find . -type f -name \"NE*.txt\")"
   ]
  },
  {
   "cell_type": "markdown",
   "metadata": {},
   "source": [
    "In the above command the items contained within the parenthesis are executed first, then the **$** symbol treats the return value from ```find``` as a variable. This extends the capabilities of ```wc``` as we were only able to use the program with files in the curren working directory. We could also perform the same step by using the ```-exec``` option with ```find```"
   ]
  },
  {
   "cell_type": "code",
   "execution_count": null,
   "metadata": {
    "vscode": {
     "languageId": "shellscript"
    }
   },
   "outputs": [],
   "source": [
    "find . -type f -name \"NE*.txt\" -exec wc -l {} \\;"
   ]
  },
  {
   "cell_type": "markdown",
   "metadata": {},
   "source": [
    "We have now given a basic overview of the Unix shell and a few of the powerful features. In further lessons we will go into scripting and working with the shell using remote sessions. "
   ]
  }
 ],
 "metadata": {
  "kernelspec": {
   "display_name": "sio_python",
   "language": "python",
   "name": "python3"
  },
  "language_info": {
   "codemirror_mode": {
    "name": "ipython",
    "version": 3
   },
   "file_extension": ".py",
   "mimetype": "text/x-python",
   "name": "python",
   "nbconvert_exporter": "python",
   "pygments_lexer": "ipython3",
   "version": "3.13.5"
  }
 },
 "nbformat": 4,
 "nbformat_minor": 2
}

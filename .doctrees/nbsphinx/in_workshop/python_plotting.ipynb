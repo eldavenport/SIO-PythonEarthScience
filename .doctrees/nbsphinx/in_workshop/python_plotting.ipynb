{
 "cells": [
  {
   "cell_type": "markdown",
   "metadata": {},
   "source": [
    "# Python Plotting\n",
    "\n",
    "Choose to start with pandas or netcdf and read in a particular data set that seems fun. (take a look at what software carpentries does).\n",
    "This plotting tutorial will be about matplotlib (i.e., assume they are not using cartopy, geopandas, or xarray. That content is for Thursday)."
   ]
  },
  {
   "cell_type": "markdown",
   "metadata": {},
   "source": [
    "## Set Up"
   ]
  },
  {
   "cell_type": "markdown",
   "metadata": {},
   "source": [
    "### Load the packages we will need"
   ]
  },
  {
   "cell_type": "markdown",
   "metadata": {},
   "source": [
    "### Load in the Dataset"
   ]
  },
  {
   "cell_type": "markdown",
   "metadata": {},
   "source": [
    "## Visualizing Data with Matplotlib\n",
    "\n",
    "[insert link to matplotlib documentation website]()\n",
    "\n",
    "Go over the following basic examples, if you need to you can split this into a set of examples with one dataset, and then a set of examples with a second dataset. Certain data might provide better examples for scatter or pcolormesh. \n",
    "\n",
    "After introducing the most common examples, I would like to have some exercises people can pursue, such as adding contours on top of an imshow() or pcolormesh() plot. Use adding std deviation shading for one of the basic examples since that is particularly useful. Then you could make an exercise to add error bars to the std dev shading, something like that. \n",
    "\n",
    "There are two formats for plotting, one is to always use subfigure() which I think we should teach. This will make all plots (even single figure plots) the same format. So the plot would start with:\n",
    "\n",
    "```\n",
    "fig, ax = plt.subplots(figsize=(),nrows=,ncols=)\n",
    "```\n",
    "\n",
    "If it's a single figure (nrows=1,ncols=1) then ax is size 1. if there are subfigures then ax is a vector/matrix size nrows x ncols. This means you will use `ax.plot()` and `ax.set_xlim()` style, instead of plt. I still think we should start with single figure and move to multiple subfigures. but the style should remain the same. \n",
    "\n",
    "I would give one example (like plot() or imshow()) and then spend some time on adding axis labels, setting axis limits, turning on legends, changing legend formatting. Then move on to more example functions like contour, etc. That way you don't have to show how to add labels and things for every example, people can do that on their own.\n",
    "\n",
    "**Basic types of plotting functions in matplotlib.pyplot library**:\n",
    "\n",
    "    1) plt.plot() : line plots \n",
    "    \n",
    "    2) plt.contour() : contour plots \n",
    "    \n",
    "    3) plt.contourf() : contour filled plots (a discrete pcolor plot with countours)\n",
    "    \n",
    "    4) plt.pcolor() or pcolormesh() : colormap with continous or discrete colorbars\n",
    "    \n",
    "    5) plt.scatter() : scatter plot \n",
    "    \n",
    "    6) plt.imshow() : image plot \n",
    "       \n",
    "    7) plt.fill_between() and error() : line plots with shadded regions and error bars\n",
    "    \n",
    "**Single Figure Plotting**: \n",
    "\n",
    "**Plotting Subplots**: \n"
   ]
  },
  {
   "cell_type": "markdown",
   "metadata": {},
   "source": [
    "### Formatting Figures \n",
    "\n",
    "Teach things like `plt.tight_layout()` and adding a text bubble to your figures (not a legend). I can give an example if you need.\n"
   ]
  },
  {
   "cell_type": "markdown",
   "metadata": {},
   "source": [
    "### Saving Figures"
   ]
  }
 ],
 "metadata": {
  "kernelspec": {
   "display_name": "Python 3",
   "language": "python",
   "name": "python3"
  },
  "language_info": {
   "name": "python",
   "version": "3.12.6"
  }
 },
 "nbformat": 4,
 "nbformat_minor": 2
}

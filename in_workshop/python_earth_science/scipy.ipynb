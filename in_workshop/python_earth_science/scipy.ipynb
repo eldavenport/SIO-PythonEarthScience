{
 "cells": [
  {
   "cell_type": "markdown",
   "metadata": {},
   "source": [
    "# SciPy (the Scientific Python Library)"
   ]
  },
  {
   "cell_type": "markdown",
   "metadata": {},
   "source": [
    "Summary of what we have learned so far:\n",
    "\n",
    "1) `numpy` supplies many common statistics and math functions for operating on arrays.\n",
    "2) `netCDF4` and `pandas` allow you to read in multidimensional and labeled data.\n",
    "3) `matplotlib` generates many standard plot types (line plots, scatter, images, contours, histograms)\n",
    "\n",
    " What about more complex operations such as filtering? How do people generate such _fancy_ statistics plots? "
   ]
  },
  {
   "cell_type": "markdown",
   "metadata": {},
   "source": [
    "[SciPy](https://scipy.org/) is an all-purpose scientific Python library that operates on NumPy arrays where you will find the following (and much more!):\n",
    "\n",
    "1) [scipy.signal](https://docs.scipy.org/doc/scipy/reference/signal.html): convolution, filtering, peak finding, spectral analysis\n",
    "\n",
    "2) [scipy.fft](https://docs.scipy.org/doc/scipy/reference/fft.html): fft, ifft, fftshift, sin and cos transforms\n",
    "\n",
    "3) [scipy.optimize](https://docs.scipy.org/doc/scipy/reference/optimize.html): curve fitting, root finding, nonlinear least squares, minimization\n",
    "\n",
    "4) [scipy.linalg](https://docs.scipy.org/doc/scipy/reference/linalg.html): matrix functions, decompositions, inv, eig\n",
    "\n",
    "5) [scipy.interpolate](https://docs.scipy.org/doc/scipy/reference/interpolate.html): univariate and multivariate interpolation, cubic splines, smoothing and approximation\n",
    "\n",
    "6) [scipy.integrate](https://docs.scipy.org/doc/scipy/reference/integrate.html): single/double/triple definite integrals, integrating over fixed samples, numerical methods (Runge-Kutta, Initial Value problems)\n",
    "\n",
    "7) [scipy.stats](https://docs.scipy.org/doc/scipy/reference/stats.html): continuous distributions, discrete distributions, multivariate distributions, summary stats, frequency stats, correlation and association, resampling and Monte Carlo methods\n",
    "\n",
    "You can consider SciPy tools to be roughly equivalent to tools you would find in Matlab or R. SciPy is also heavily tested, has millions of users, and regular maintainers."
   ]
  },
  {
   "cell_type": "code",
   "execution_count": 1,
   "metadata": {},
   "outputs": [],
   "source": [
    "from scipy import signal\n",
    "from scipy import optimize\n",
    "from scipy import linalg\n",
    "\n",
    "# scipy examples"
   ]
  }
 ],
 "metadata": {
  "kernelspec": {
   "display_name": "scicompute",
   "language": "python",
   "name": "python3"
  },
  "language_info": {
   "codemirror_mode": {
    "name": "ipython",
    "version": 3
   },
   "file_extension": ".py",
   "mimetype": "text/x-python",
   "name": "python",
   "nbconvert_exporter": "python",
   "pygments_lexer": "ipython3",
   "version": "3.12.2"
  }
 },
 "nbformat": 4,
 "nbformat_minor": 2
}

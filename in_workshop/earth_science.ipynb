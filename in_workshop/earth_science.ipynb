{
 "cells": [
  {
   "cell_type": "markdown",
   "metadata": {},
   "source": [
    "# Python for Earth Science"
   ]
  },
  {
   "cell_type": "markdown",
   "metadata": {},
   "source": [
    "## Additional Popular Scientific Python Library and their Use Cases"
   ]
  },
  {
   "cell_type": "markdown",
   "metadata": {},
   "source": [
    "Summary of what we have learned so far:\n",
    "\n",
    "1) `numpy` supplies many common statistics and math functions for operating on arrays.\n",
    "2) `netCDF4` and `pandas` allow you to read in multidimensional and labeled data.\n",
    "3) `matplotlib` generates many standard plot types (line plots, scatter, images, contours, histograms)\n",
    "\n",
    " What about more complex operations such as filtering? How do people generate such _fancy_ statistics plots? "
   ]
  },
  {
   "cell_type": "markdown",
   "metadata": {},
   "source": [
    "### **SciPy**"
   ]
  },
  {
   "cell_type": "markdown",
   "metadata": {},
   "source": [
    "[SciPy](https://scipy.org/) is an all-purpose scientific Python library that operates on NumPy arrays where you will find the following (and much more!):\n",
    "\n",
    "1) [scipy.signal](https://docs.scipy.org/doc/scipy/reference/signal.html): convolution, filtering, peak finding, spectral analysis\n",
    "\n",
    "2) [scipy.fft](https://docs.scipy.org/doc/scipy/reference/fft.html): \n",
    "\n",
    "3) [scipy.optimize](https://docs.scipy.org/doc/scipy/reference/optimize.html):\n",
    "\n",
    "4) [scipy.linalg](https://docs.scipy.org/doc/scipy/reference/linalg.html):\n",
    "\n",
    "5) [scipy.interpolate](https://docs.scipy.org/doc/scipy/reference/interpolate.html):\n",
    "\n",
    "6) [scipy.integrate](https://docs.scipy.org/doc/scipy/reference/integrate.html):\n",
    "\n",
    "7) [scipy.stats](https://docs.scipy.org/doc/scipy/reference/stats.html):\n",
    "\n",
    "You can consider SciPy tools to be roughly equivalent to tools you would find in Matlab or R. SciPy has very thorough documentation, including references to the implementations for each algorithm. SciPy is also heavily tested, has millions of users, and regular maintainers."
   ]
  },
  {
   "cell_type": "code",
   "execution_count": 1,
   "metadata": {},
   "outputs": [],
   "source": [
    "from scipy import signal\n",
    "from scipy import optimize\n",
    "from scipy import linalg\n",
    "\n",
    "# scipy examples"
   ]
  },
  {
   "cell_type": "markdown",
   "metadata": {},
   "source": [
    "### **Seaborn**"
   ]
  },
  {
   "cell_type": "markdown",
   "metadata": {},
   "source": [
    "[Seaborn](https://seaborn.pydata.org/) is a statistics data visualization library that works directly with `matplotlib`. You can see it as an extension to what we have learned about `matplotlib` that will provide concise methods for generating highly informative plots. Seaborn can be especially useful when generating plots for publication."
   ]
  },
  {
   "cell_type": "code",
   "execution_count": 2,
   "metadata": {},
   "outputs": [],
   "source": [
    "import seaborn as sns\n",
    "\n",
    "# seaborn example"
   ]
  },
  {
   "cell_type": "markdown",
   "metadata": {},
   "source": [
    "# The Xarray and Dask Framework"
   ]
  },
  {
   "cell_type": "markdown",
   "metadata": {},
   "source": [
    "## Dask"
   ]
  },
  {
   "cell_type": "markdown",
   "metadata": {},
   "source": []
  },
  {
   "cell_type": "markdown",
   "metadata": {},
   "source": [
    "## Xarray\n",
    "\n",
    "[Xarray](https://docs.xarray.dev/en/stable/) is a phenomenally powerful tool for exploring multi-dimensional (esp. geospatial) data in a way that is efficient and robust to making coding mistakes."
   ]
  },
  {
   "cell_type": "markdown",
   "metadata": {},
   "source": []
  }
 ],
 "metadata": {
  "kernelspec": {
   "display_name": "Python 3",
   "language": "python",
   "name": "python3"
  },
  "language_info": {
   "codemirror_mode": {
    "name": "ipython",
    "version": 3
   },
   "file_extension": ".py",
   "mimetype": "text/x-python",
   "name": "python",
   "nbconvert_exporter": "python",
   "pygments_lexer": "ipython3",
   "version": "3.12.2"
  }
 },
 "nbformat": 4,
 "nbformat_minor": 2
}
